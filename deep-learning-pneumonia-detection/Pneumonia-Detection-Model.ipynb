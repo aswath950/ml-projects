{
 "cells": [
  {
   "cell_type": "markdown",
   "metadata": {},
   "source": [
    "***Chest X-Ray Pneumonia prediction model***"
   ]
  },
  {
   "cell_type": "code",
   "execution_count": 22,
   "metadata": {},
   "outputs": [
    {
     "name": "stdout",
     "output_type": "stream",
     "text": [
      "Found 5216 images belonging to 2 classes.\n",
      "Found 624 images belonging to 2 classes.\n"
     ]
    }
   ],
   "source": [
    "import numpy as np\n",
    "import os\n",
    "import tensorflow as tf\n",
    "from tensorflow.keras.preprocessing import image\n",
    "from tensorflow.keras.preprocessing.image import ImageDataGenerator\n",
    "import matplotlib.pyplot as plt\n",
    "from sklearn.metrics import accuracy_score\n",
    "\n",
    "# Setting directory path to the dataset\n",
    "train_dir = '/Users/aswathsabarri/Desktop/Git Repo/Pneumonia detector/chest_xray/train'\n",
    "test_dir = '/Users/aswathsabarri/Desktop/Git Repo/Pneumonia detector/chest_xray/test'\n",
    "\n",
    "# Preprocessing the images\n",
    "train_datagen = ImageDataGenerator(rescale=1./255)\n",
    "test_datagen = ImageDataGenerator(rescale=1./255)\n",
    "\n",
    "train_generator = train_datagen.flow_from_directory(\n",
    "        train_dir,\n",
    "        target_size=(150, 150),\n",
    "        batch_size=20,\n",
    "        class_mode='binary')\n",
    "\n",
    "test_generator = test_datagen.flow_from_directory(\n",
    "        test_dir,\n",
    "        target_size=(150, 150),\n",
    "        batch_size=20,\n",
    "        class_mode='binary')\n"
   ]
  },
  {
   "cell_type": "code",
   "execution_count": 23,
   "metadata": {},
   "outputs": [],
   "source": [
    "from tensorflow.keras import layers, models\n",
    "\n",
    "model = models.Sequential([\n",
    "    layers.Conv2D(32, (3, 3), activation='relu', input_shape=(150, 150, 3)),\n",
    "    layers.MaxPooling2D((2, 2)),\n",
    "    layers.Conv2D(64, (3, 3), activation='relu'),\n",
    "    layers.MaxPooling2D((2, 2)),\n",
    "    layers.Conv2D(128, (3, 3), activation='relu'),\n",
    "    layers.MaxPooling2D((2, 2)),\n",
    "    layers.Flatten(),\n",
    "    layers.Dense(512, activation='relu'),\n",
    "    layers.Dense(1, activation='sigmoid')\n",
    "])\n",
    "\n",
    "model.compile(optimizer='adam',\n",
    "              loss='binary_crossentropy',\n",
    "              metrics=['accuracy'])\n"
   ]
  },
  {
   "cell_type": "code",
   "execution_count": 24,
   "metadata": {},
   "outputs": [],
   "source": [
    "from tensorflow.keras import layers, models\n",
    "\n",
    "model = models.Sequential([\n",
    "    layers.Conv2D(32, (3, 3), activation='relu', input_shape=(150, 150, 3)),\n",
    "    layers.MaxPooling2D((2, 2)),\n",
    "    layers.Conv2D(64, (3, 3), activation='relu'),\n",
    "    layers.MaxPooling2D((2, 2)),\n",
    "    layers.Conv2D(128, (3, 3), activation='relu'),\n",
    "    layers.MaxPooling2D((2, 2)),\n",
    "    layers.Flatten(),\n",
    "    layers.Dense(512, activation='relu'),\n",
    "    layers.Dense(1, activation='sigmoid')\n",
    "])\n",
    "\n",
    "model.compile(optimizer='adam',\n",
    "              loss='binary_crossentropy',\n",
    "              metrics=['accuracy'])\n"
   ]
  },
  {
   "cell_type": "code",
   "execution_count": 25,
   "metadata": {},
   "outputs": [
    {
     "name": "stdout",
     "output_type": "stream",
     "text": [
      "Epoch 1/10\n",
      "100/100 [==============================] - ETA: 0s - loss: 0.3926 - accuracy: 0.8345WARNING:tensorflow:Your input ran out of data; interrupting training. Make sure that your dataset or generator can generate at least `steps_per_epoch * epochs` batches (in this case, 50 batches). You may need to use the repeat() function when building your dataset.\n",
      "100/100 [==============================] - 50s 487ms/step - loss: 0.3926 - accuracy: 0.8345 - val_loss: 0.6820 - val_accuracy: 0.7740\n",
      "Epoch 2/10\n",
      "100/100 [==============================] - 44s 444ms/step - loss: 0.1484 - accuracy: 0.9430\n",
      "Epoch 3/10\n",
      "100/100 [==============================] - 40s 397ms/step - loss: 0.1329 - accuracy: 0.9485\n",
      "Epoch 4/10\n",
      "100/100 [==============================] - 41s 410ms/step - loss: 0.1181 - accuracy: 0.9540\n",
      "Epoch 5/10\n",
      "100/100 [==============================] - 37s 372ms/step - loss: 0.0915 - accuracy: 0.9685\n",
      "Epoch 6/10\n",
      "100/100 [==============================] - 43s 428ms/step - loss: 0.0832 - accuracy: 0.9694\n",
      "Epoch 7/10\n",
      "100/100 [==============================] - 38s 375ms/step - loss: 0.0900 - accuracy: 0.9704\n",
      "Epoch 8/10\n",
      "100/100 [==============================] - 38s 374ms/step - loss: 0.0690 - accuracy: 0.9734\n",
      "Epoch 9/10\n",
      "100/100 [==============================] - 37s 365ms/step - loss: 0.0601 - accuracy: 0.9785\n",
      "Epoch 10/10\n",
      "100/100 [==============================] - 37s 371ms/step - loss: 0.0687 - accuracy: 0.9750\n"
     ]
    }
   ],
   "source": [
    "history = model.fit(\n",
    "    train_generator,\n",
    "    steps_per_epoch=100,  # depends on the size of your training set\n",
    "    epochs=10,            # can be adjusted\n",
    "    validation_data=test_generator,\n",
    "    validation_steps=50)  # depends on the size of your test set\n"
   ]
  },
  {
   "cell_type": "code",
   "execution_count": 26,
   "metadata": {},
   "outputs": [
    {
     "data": {
      "text/plain": [
       "<matplotlib.legend.Legend at 0x13c7a7e20>"
      ]
     },
     "execution_count": 26,
     "metadata": {},
     "output_type": "execute_result"
    },
    {
     "data": {
      "image/png": "[encoded data removed]",
      "text/plain": [
       "<Figure size 432x288 with 1 Axes>"
      ]
     },
     "metadata": {
      "needs_background": "light"
     },
     "output_type": "display_data"
    }
   ],
   "source": [
    "plt.plot(history.history['accuracy'], label='accuracy')\n",
    "plt.plot(history.history['val_accuracy'], label = 'val_accuracy')\n",
    "plt.xlabel('Epoch')\n",
    "plt.ylabel('Accuracy')\n",
    "plt.ylim([0, 1])\n",
    "plt.legend(loc='lower right')\n"
   ]
  },
  {
   "cell_type": "code",
   "execution_count": 27,
   "metadata": {},
   "outputs": [
    {
     "name": "stdout",
     "output_type": "stream",
     "text": [
      "[[0.14047605]]\n"
     ]
    }
   ],
   "source": [
    "model.save('pneumonia_detection_model.h5')\n",
    "\n",
    "# For prediction\n",
    "from tensorflow.keras.preprocessing import image\n",
    "\n",
    "img_path = '/Users/aswathsabarri/Desktop/Git Repo/Pneumonia detector/chest_xray/val/NORMAL/NORMAL2-IM-1427-0001.jpeg'\n",
    "img = image.load_img(img_path, target_size=(150, 150))\n",
    "img_array = image.img_to_array(img) / 255.0\n",
    "img_array = np.expand_dims(img_array, axis=0)\n",
    "\n",
    "prediction = model.predict(img_array)\n",
    "print(prediction)\n"
   ]
  },
  {
   "cell_type": "code",
   "execution_count": 28,
   "metadata": {},
   "outputs": [
    {
     "name": "stdout",
     "output_type": "stream",
     "text": [
      "All the images below are Normal\n",
      "Image : NORMAL2-IM-1440-0001.jpeg | Prediction : Normal | Score : 0.0005770325660705566\n",
      "Image : NORMAL2-IM-1437-0001.jpeg | Prediction : Normal | Score : 0.24535581469535828\n",
      "Image : NORMAL2-IM-1431-0001.jpeg | Prediction : Normal | Score : 0.0628671646118164\n",
      "Image : NORMAL2-IM-1436-0001.jpeg | Prediction : Normal | Score : 0.03877553343772888\n",
      "Image : NORMAL2-IM-1430-0001.jpeg | Prediction : Pneumonia | Score : 0.9426052570343018\n",
      "Image : NORMAL2-IM-1438-0001.jpeg | Prediction : Normal | Score : 0.24113687872886658\n",
      "Image : NORMAL2-IM-1442-0001.jpeg | Prediction : Normal | Score : 0.0038035809993743896\n",
      "Image : NORMAL2-IM-1427-0001.jpeg | Prediction : Normal | Score : 0.1404760479927063\n",
      "\n",
      "\n",
      "All the images below are Pnuemonic\n",
      "Image : person1950_bacteria_4881.jpeg | Prediction : Pneumonia | Score : 0.9808032512664795\n",
      "Image : person1951_bacteria_4882.jpeg | Prediction : Pneumonia | Score : 0.9999854564666748\n",
      "Image : person1952_bacteria_4883.jpeg | Prediction : Pneumonia | Score : 0.9996638298034668\n",
      "Image : person1946_bacteria_4874.jpeg | Prediction : Pneumonia | Score : 0.9995415210723877\n",
      "Image : person1947_bacteria_4876.jpeg | Prediction : Pneumonia | Score : 0.9990575313568115\n",
      "Image : person1946_bacteria_4875.jpeg | Prediction : Pneumonia | Score : 0.9999327659606934\n",
      "Image : person1949_bacteria_4880.jpeg | Prediction : Pneumonia | Score : 0.9846831560134888\n",
      "Image : person1954_bacteria_4886.jpeg | Prediction : Pneumonia | Score : 0.615234911441803\n",
      "\n",
      " Accuracy of model 0.9375\n"
     ]
    }
   ],
   "source": [
    "# Predictng All images from the val directory.  Use this block of code directly if only prediction needs to done. \n",
    "# The pretrained weights of the model is stored in 'pneumonia_detection_model.h5' file\n",
    "\n",
    "# Acquiring all val images\n",
    "predict_img_dir_normal = \"/Users/aswathsabarri/Desktop/Git Repo/Pneumonia detector/chest_xray/val/NORMAL\"\n",
    "predict_img_dir_pneumonia = \"/Users/aswathsabarri/Desktop/Git Repo/Pneumonia detector/chest_xray/val/PNEUMONIA\"\n",
    "images_file_normal = os.listdir(predict_img_dir_normal)\n",
    "images_file_pneumonia = os.listdir(predict_img_dir_pneumonia)\n",
    "\n",
    "# Loading saved model which has been trained - \n",
    "model = tf.keras.models.load_model('pneumonia_detection_model.h5')\n",
    "test = []\n",
    "pred = []\n",
    "\n",
    "def predict_image(image_path):\n",
    "    img = image.load_img(image_path,target_size=(150,150))\n",
    "    img_array =  image.img_to_array(img) / 255.0   # Normalizing image values \n",
    "    img_array =  np.expand_dims(img_array, axis = 0)\n",
    "\n",
    "    prediction = model.predict(img_array)\n",
    "    return prediction[0][0]\n",
    "\n",
    "\n",
    "#Iterate over all the images and predict them\n",
    "print(\"All the images below are Normal\")\n",
    "for image_file in images_file_normal:\n",
    "    image_path = os.path.join(predict_img_dir_normal, image_file)\n",
    "    prediction_score = predict_image(image_path)\n",
    "    pred_label = 'Pneumonia'\n",
    "    \n",
    "    test.append(0)\n",
    "    if prediction_score < 0.5:\n",
    "        pred_label = \"Normal\"\n",
    "        pred.append(0)\n",
    "    else:\n",
    "        pred.append(1)\n",
    "\n",
    "    print(f'Image : {image_file} | Prediction : {pred_label} | Score : {prediction_score}' )\n",
    "\n",
    "\n",
    "print(\"\\n\\nAll the images below are Pnuemonic\")\n",
    "for image_file in images_file_pneumonia:\n",
    "    image_path = os.path.join(predict_img_dir_pneumonia, image_file)\n",
    "    prediction_score = predict_image(image_path)\n",
    "    pred_label = 'Pneumonia'\n",
    "    \n",
    "    test.append(1)\n",
    "    if prediction_score < 0.5:\n",
    "        pred_label = \"Normal\"\n",
    "        pred.append(0)\n",
    "    else:\n",
    "        pred.append(1)\n",
    "\n",
    "    print(f'Image : {image_file} | Prediction : {pred_label} | Score : {prediction_score}' )\n",
    "\n",
    "\n",
    "print(f\"\\n Accuracy of model {accuracy_score(test,pred)}\")\n",
    "\n",
    "\n"
   ]
  }
 ],
 "metadata": {
  "kernelspec": {
   "display_name": "Python 3",
   "language": "python",
   "name": "python3"
  },
  "language_info": {
   "codemirror_mode": {
    "name": "ipython",
    "version": 3
   },
   "file_extension": ".py",
   "mimetype": "text/x-python",
   "name": "python",
   "nbconvert_exporter": "python",
   "pygments_lexer": "ipython3",
   "version": "3.9.12"
  }
 },
 "nbformat": 4,
 "nbformat_minor": 2
}
