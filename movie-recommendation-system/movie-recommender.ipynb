{
 "cells": [
  {
   "cell_type": "markdown",
   "id": "5dc78952",
   "metadata": {},
   "source": [
    "# Movie Recommender System using ML Algorithms\n",
    "\n",
    "### In this project  -  We develop a recommendation system using Cosine Similarity as the base ML algorithm. The data is acquired from Kaggle and is based of the IMDB Movie Lens Database. Provided below is the code which is used to acquire data, pre-process it and then apply Cosine Similarity to it find the most similar movies  based the User's input. The system returns 10 of the most matching movies"
   ]
  },
  {
   "cell_type": "code",
   "execution_count": 1,
   "id": "45d1da66",
   "metadata": {},
   "outputs": [
    {
     "name": "stderr",
     "output_type": "stream",
     "text": [
      "/usr/local/lib/python3.9/site-packages/IPython/core/interactiveshell.py:3457: DtypeWarning: Columns (10) have mixed types.Specify dtype option on import or set low_memory=False.\n",
      "  exec(code_obj, self.user_global_ns, self.user_ns)\n"
     ]
    }
   ],
   "source": [
    "import pandas as pd\n",
    "import numpy as np\n",
    "\n",
    "#Importing the relevant datasets from the mounted Google Drive (change the code below if the data is hosted elsewhere)\n",
    "metadata = pd.read_csv(\"data/movies_metadata.csv\")\n",
    "ratings = pd.read_csv(\"data/ratings.csv\")\n",
    "credits = pd.read_csv(\"data/credits.csv\")\n",
    "keywords = pd.read_csv(\"data/keywords.csv\")"
   ]
  },
  {
   "cell_type": "markdown",
   "id": "17b043c9",
   "metadata": {},
   "source": [
    "### The combined memory taken up by the datasets is around 900MB. Whose data needs to processed before algorithms can be applied on it."
   ]
  },
  {
   "cell_type": "code",
   "execution_count": 2,
   "id": "91d0be21",
   "metadata": {},
   "outputs": [
    {
     "name": "stdout",
     "output_type": "stream",
     "text": [
      "metadata shape: (45466, 24)\n",
      "ratings shape: (26024289, 4)\n",
      "credits shape: (45476, 3)\n",
      "keywords shape: (46419, 2)\n"
     ]
    }
   ],
   "source": [
    "print(\"metadata shape:\",metadata.shape)\n",
    "print(\"ratings shape:\",ratings.shape)\n",
    "print(\"credits shape:\",credits.shape)\n",
    "print(\"keywords shape:\",keywords.shape)"
   ]
  },
  {
   "cell_type": "code",
   "execution_count": 3,
   "id": "67dc940f",
   "metadata": {},
   "outputs": [
    {
     "name": "stdout",
     "output_type": "stream",
     "text": [
      "New ratings dataset shape : (45115, 2)\n",
      "New ratings dataset top :\n",
      "       movieId  rating\n",
      "34799   147966     5.0\n",
      "37018   154341     5.0\n",
      "40487   164620     5.0\n"
     ]
    }
   ],
   "source": [
    "#Ratings dataset preprocessing\n",
    "newratings = ratings[[\"movieId\",\"rating\"]]\n",
    "#newratings.sort_values(\"movieId\",ascending=False,inplace = True)\n",
    "newnewratings=newratings.groupby('movieId',as_index=False)['rating'].mean()\n",
    "\n",
    "print(\"New ratings dataset shape :\",newnewratings.shape)\n",
    "newnewratings=newnewratings.sort_values('rating',ascending=False)\n",
    "print(\"New ratings dataset top :\")\n",
    "print(newnewratings.head(3))\n"
   ]
  },
  {
   "cell_type": "markdown",
   "id": "42d9000b",
   "metadata": {},
   "source": [
    "### Here we starting pre processing our data,\n",
    "#### There are a number of number Nan and string values in our popularity column, and as we are taking  the top 20000 most popular movies into considertion for recommendation system, We need to remove these 'dirty' rows.\n",
    "\n",
    "\n",
    "### We have millions of rows of data in ratings file which belong to multiple movies. So we find the average rating of each of these movies."
   ]
  },
  {
   "cell_type": "code",
   "execution_count": 4,
   "id": "11533761",
   "metadata": {},
   "outputs": [
    {
     "name": "stdout",
     "output_type": "stream",
     "text": [
      "(45115, 3)\n",
      "Index(['adult', 'belongs_to_collection', 'budget', 'genres', 'homepage', 'id',\n",
      "       'imdb_id', 'original_language', 'original_title', 'overview',\n",
      "       'popularity', 'poster_path', 'production_companies',\n",
      "       'production_countries', 'release_date', 'revenue', 'runtime',\n",
      "       'spoken_languages', 'status', 'tagline', 'title', 'video',\n",
      "       'vote_average', 'vote_count', 'cast', 'crew', 'keywords', 'movieId',\n",
      "       'rating'],\n",
      "      dtype='object')\n"
     ]
    }
   ],
   "source": [
    "\n",
    "#dropping Nan values as they very unpopular movies\n",
    "metadata[\"popularity\"].apply(lambda x: pd.to_numeric(x, errors='coerce')).dropna()\n",
    "\n",
    "#Cleaning the data from invalid values in the dataset\n",
    "metadata=metadata[metadata[\"popularity\"].apply(lambda x: isinstance(x, float))]\n",
    "\n",
    "\n",
    "metadata = metadata.sort_values(by='popularity',ascending=False)\n",
    "metadata = metadata.iloc[:25000,:]\n",
    "\n",
    "\n",
    "keywords['id'] = keywords['id'].astype('int')\n",
    "credits['id'] = credits['id'].astype('int')\n",
    "metadata['id'] = metadata['id'].astype('int')\n",
    "newnewratings['id'] = newnewratings['movieId'].astype('int')\n",
    "newnewratings['rating'] = newnewratings['rating'].astype('str')\n",
    "\n",
    "\n",
    "\n",
    "metadata = metadata.merge(credits, on='id')\n",
    "metadata = metadata.merge(keywords, on='id')\n",
    "metadata = metadata.merge(newnewratings,on ='id')\n",
    "\n",
    "print(newnewratings.shape)\n",
    "print(metadata.columns)\n",
    "metadata = metadata.sort_values('rating',ascending=False)\n"
   ]
  },
  {
   "cell_type": "markdown",
   "id": "71fb5420",
   "metadata": {},
   "source": [
    "### Printing information on some of datasets we will be using to better understand how information is stored."
   ]
  },
  {
   "cell_type": "code",
   "execution_count": 5,
   "id": "6f882f4f",
   "metadata": {},
   "outputs": [
    {
     "data": {
      "text/plain": [
       "Index(['adult', 'belongs_to_collection', 'budget', 'genres', 'homepage', 'id',\n",
       "       'imdb_id', 'original_language', 'original_title', 'overview',\n",
       "       'popularity', 'poster_path', 'production_companies',\n",
       "       'production_countries', 'release_date', 'revenue', 'runtime',\n",
       "       'spoken_languages', 'status', 'tagline', 'title', 'video',\n",
       "       'vote_average', 'vote_count', 'cast', 'crew', 'keywords', 'movieId',\n",
       "       'rating'],\n",
       "      dtype='object')"
      ]
     },
     "execution_count": 5,
     "metadata": {},
     "output_type": "execute_result"
    }
   ],
   "source": [
    "metadata.columns"
   ]
  },
  {
   "cell_type": "code",
   "execution_count": 6,
   "id": "7f04e9b6",
   "metadata": {},
   "outputs": [
    {
     "data": {
      "text/html": [
       "<div>\n",
       "<style scoped>\n",
       "    .dataframe tbody tr th:only-of-type {\n",
       "        vertical-align: middle;\n",
       "    }\n",
       "\n",
       "    .dataframe tbody tr th {\n",
       "        vertical-align: top;\n",
       "    }\n",
       "\n",
       "    .dataframe thead th {\n",
       "        text-align: right;\n",
       "    }\n",
       "</style>\n",
       "<table border=\"1\" class=\"dataframe\">\n",
       "  <thead>\n",
       "    <tr style=\"text-align: right;\">\n",
       "      <th></th>\n",
       "      <th>title</th>\n",
       "      <th>cast</th>\n",
       "      <th>crew</th>\n",
       "      <th>keywords</th>\n",
       "      <th>genres</th>\n",
       "      <th>rating</th>\n",
       "    </tr>\n",
       "  </thead>\n",
       "  <tbody>\n",
       "    <tr>\n",
       "      <th>859</th>\n",
       "      <td>Any Day Now</td>\n",
       "      <td>[{'cast_id': 2, 'character': 'Rudy', 'credit_i...</td>\n",
       "      <td>[{'credit_id': '52fe4a4ec3a36847f81c6a77', 'de...</td>\n",
       "      <td>[{'id': 387, 'name': 'california'}, {'id': 824...</td>\n",
       "      <td>[{'id': 18, 'name': 'Drama'}]</td>\n",
       "      <td>5.0</td>\n",
       "    </tr>\n",
       "    <tr>\n",
       "      <th>2303</th>\n",
       "      <td>Phil Spector</td>\n",
       "      <td>[{'cast_id': 2, 'character': 'Linda Kenney Bad...</td>\n",
       "      <td>[{'credit_id': '52fe4d2dc3a36847f8252d75', 'de...</td>\n",
       "      <td>[]</td>\n",
       "      <td>[{'id': 10770, 'name': 'TV Movie'}, {'id': 18,...</td>\n",
       "      <td>5.0</td>\n",
       "    </tr>\n",
       "    <tr>\n",
       "      <th>3832</th>\n",
       "      <td>Yellow Rock</td>\n",
       "      <td>[{'cast_id': 3, 'character': 'Tom Hanner', 'cr...</td>\n",
       "      <td>[{'credit_id': '53f11470c3a3685ae2002fa1', 'de...</td>\n",
       "      <td>[{'id': 156948, 'name': 'missing child'}]</td>\n",
       "      <td>[{'id': 37, 'name': 'Western'}]</td>\n",
       "      <td>5.0</td>\n",
       "    </tr>\n",
       "  </tbody>\n",
       "</table>\n",
       "</div>"
      ],
      "text/plain": [
       "             title                                               cast  \\\n",
       "859    Any Day Now  [{'cast_id': 2, 'character': 'Rudy', 'credit_i...   \n",
       "2303  Phil Spector  [{'cast_id': 2, 'character': 'Linda Kenney Bad...   \n",
       "3832   Yellow Rock  [{'cast_id': 3, 'character': 'Tom Hanner', 'cr...   \n",
       "\n",
       "                                                   crew  \\\n",
       "859   [{'credit_id': '52fe4a4ec3a36847f81c6a77', 'de...   \n",
       "2303  [{'credit_id': '52fe4d2dc3a36847f8252d75', 'de...   \n",
       "3832  [{'credit_id': '53f11470c3a3685ae2002fa1', 'de...   \n",
       "\n",
       "                                               keywords  \\\n",
       "859   [{'id': 387, 'name': 'california'}, {'id': 824...   \n",
       "2303                                                 []   \n",
       "3832          [{'id': 156948, 'name': 'missing child'}]   \n",
       "\n",
       "                                                 genres rating  \n",
       "859                       [{'id': 18, 'name': 'Drama'}]    5.0  \n",
       "2303  [{'id': 10770, 'name': 'TV Movie'}, {'id': 18,...    5.0  \n",
       "3832                    [{'id': 37, 'name': 'Western'}]    5.0  "
      ]
     },
     "execution_count": 6,
     "metadata": {},
     "output_type": "execute_result"
    }
   ],
   "source": [
    "\n",
    "metadata[['title', 'cast', 'crew', 'keywords', 'genres','rating']].head(3)"
   ]
  },
  {
   "cell_type": "code",
   "execution_count": 7,
   "id": "6cc61a54",
   "metadata": {},
   "outputs": [],
   "source": [
    "#raises an exception if the input isn't a valid Python datatype, so the code won't be executed if it's not.\n",
    "#Parse the stringified features into their corresponding python objects\n",
    "\n",
    "from ast import literal_eval\n",
    "\n",
    "features = ['cast', 'crew', 'keywords', 'genres']\n",
    "for feature in features:\n",
    "    metadata[feature] = metadata[feature].apply(literal_eval)"
   ]
  },
  {
   "cell_type": "code",
   "execution_count": 8,
   "id": "aebf231d",
   "metadata": {},
   "outputs": [],
   "source": [
    "def get_director(x):\n",
    "    for i in x:\n",
    "        if i['job'] == 'Director':\n",
    "            return i['name']\n",
    "    return np.nan"
   ]
  },
  {
   "cell_type": "code",
   "execution_count": 9,
   "id": "35ef790a",
   "metadata": {},
   "outputs": [],
   "source": [
    "#Getting a list of the actors, keywords and genres\n",
    "def get_list(x):\n",
    "    if isinstance(x, list): \n",
    "        names = [i['name'] for i in x] \n",
    "        \n",
    "        if len(names) > 3:\n",
    "            names = names[:3]\n",
    "        return names\n",
    "\n",
    "    return []"
   ]
  },
  {
   "cell_type": "code",
   "execution_count": 10,
   "id": "76d0528e",
   "metadata": {},
   "outputs": [
    {
     "data": {
      "text/html": [
       "<div>\n",
       "<style scoped>\n",
       "    .dataframe tbody tr th:only-of-type {\n",
       "        vertical-align: middle;\n",
       "    }\n",
       "\n",
       "    .dataframe tbody tr th {\n",
       "        vertical-align: top;\n",
       "    }\n",
       "\n",
       "    .dataframe thead th {\n",
       "        text-align: right;\n",
       "    }\n",
       "</style>\n",
       "<table border=\"1\" class=\"dataframe\">\n",
       "  <thead>\n",
       "    <tr style=\"text-align: right;\">\n",
       "      <th></th>\n",
       "      <th>title</th>\n",
       "      <th>cast</th>\n",
       "      <th>director</th>\n",
       "      <th>keywords</th>\n",
       "      <th>genres</th>\n",
       "      <th>rating</th>\n",
       "    </tr>\n",
       "  </thead>\n",
       "  <tbody>\n",
       "    <tr>\n",
       "      <th>859</th>\n",
       "      <td>Any Day Now</td>\n",
       "      <td>[Alan Cumming, Garret Dillahunt, Isaac Leyva]</td>\n",
       "      <td>Travis Fine</td>\n",
       "      <td>[california, drag queen, homophobia]</td>\n",
       "      <td>[Drama]</td>\n",
       "      <td>5.0</td>\n",
       "    </tr>\n",
       "    <tr>\n",
       "      <th>2303</th>\n",
       "      <td>Phil Spector</td>\n",
       "      <td>[Helen Mirren, Al Pacino, Jeffrey Tambor]</td>\n",
       "      <td>David Mamet</td>\n",
       "      <td>[]</td>\n",
       "      <td>[TV Movie, Drama]</td>\n",
       "      <td>5.0</td>\n",
       "    </tr>\n",
       "    <tr>\n",
       "      <th>3832</th>\n",
       "      <td>Yellow Rock</td>\n",
       "      <td>[Michael Biehn, James Russo, Lenore Andriel]</td>\n",
       "      <td>Nick Vallelonga</td>\n",
       "      <td>[missing child]</td>\n",
       "      <td>[Western]</td>\n",
       "      <td>5.0</td>\n",
       "    </tr>\n",
       "    <tr>\n",
       "      <th>3736</th>\n",
       "      <td>Burning Secret</td>\n",
       "      <td>[David Eberts, Faye Dunaway, Klaus Maria Brand...</td>\n",
       "      <td>Andrew Birkin</td>\n",
       "      <td>[austria, american diplomat]</td>\n",
       "      <td>[Drama]</td>\n",
       "      <td>5.0</td>\n",
       "    </tr>\n",
       "    <tr>\n",
       "      <th>3321</th>\n",
       "      <td>Brannigan</td>\n",
       "      <td>[John Wayne, Richard Attenborough, Judy Geeson]</td>\n",
       "      <td>Douglas Hickox</td>\n",
       "      <td>[london england, scotland yard, cop]</td>\n",
       "      <td>[Action, Crime, Drama]</td>\n",
       "      <td>5.0</td>\n",
       "    </tr>\n",
       "  </tbody>\n",
       "</table>\n",
       "</div>"
      ],
      "text/plain": [
       "               title                                               cast  \\\n",
       "859      Any Day Now      [Alan Cumming, Garret Dillahunt, Isaac Leyva]   \n",
       "2303    Phil Spector          [Helen Mirren, Al Pacino, Jeffrey Tambor]   \n",
       "3832     Yellow Rock       [Michael Biehn, James Russo, Lenore Andriel]   \n",
       "3736  Burning Secret  [David Eberts, Faye Dunaway, Klaus Maria Brand...   \n",
       "3321       Brannigan    [John Wayne, Richard Attenborough, Judy Geeson]   \n",
       "\n",
       "             director                              keywords  \\\n",
       "859       Travis Fine  [california, drag queen, homophobia]   \n",
       "2303      David Mamet                                    []   \n",
       "3832  Nick Vallelonga                       [missing child]   \n",
       "3736    Andrew Birkin          [austria, american diplomat]   \n",
       "3321   Douglas Hickox  [london england, scotland yard, cop]   \n",
       "\n",
       "                      genres rating  \n",
       "859                  [Drama]    5.0  \n",
       "2303       [TV Movie, Drama]    5.0  \n",
       "3832               [Western]    5.0  \n",
       "3736                 [Drama]    5.0  \n",
       "3321  [Action, Crime, Drama]    5.0  "
      ]
     },
     "execution_count": 10,
     "metadata": {},
     "output_type": "execute_result"
    }
   ],
   "source": [
    "metadata['director'] = metadata['crew'].apply(get_director)\n",
    "\n",
    "features = ['cast', 'keywords', 'genres']\n",
    "for feature in features:\n",
    "    metadata[feature] = metadata[feature].apply(get_list)\n",
    "\n",
    "metadata[['title', 'cast', 'director', 'keywords', 'genres','rating']].head()"
   ]
  },
  {
   "cell_type": "markdown",
   "id": "4e88e9c2",
   "metadata": {},
   "source": [
    "#### Further Pre-Processing for datasets"
   ]
  },
  {
   "cell_type": "code",
   "execution_count": 11,
   "id": "891171e1",
   "metadata": {},
   "outputs": [],
   "source": [
    "def clean_data(x):\n",
    "    if isinstance(x, list):\n",
    "        return [str.lower(i.replace(\" \", \"\")) for i in x] #cleaning up spaces in the data\n",
    "    else:\n",
    "        #Check if director exists. If not, return empty string\n",
    "        if isinstance(x, str):\n",
    "            return str.lower(x.replace(\" \", \"\"))\n",
    "        else:\n",
    "            return ''"
   ]
  },
  {
   "cell_type": "code",
   "execution_count": 12,
   "id": "63b80a94",
   "metadata": {},
   "outputs": [
    {
     "data": {
      "text/html": [
       "<div>\n",
       "<style scoped>\n",
       "    .dataframe tbody tr th:only-of-type {\n",
       "        vertical-align: middle;\n",
       "    }\n",
       "\n",
       "    .dataframe tbody tr th {\n",
       "        vertical-align: top;\n",
       "    }\n",
       "\n",
       "    .dataframe thead th {\n",
       "        text-align: right;\n",
       "    }\n",
       "</style>\n",
       "<table border=\"1\" class=\"dataframe\">\n",
       "  <thead>\n",
       "    <tr style=\"text-align: right;\">\n",
       "      <th></th>\n",
       "      <th>title</th>\n",
       "      <th>cast</th>\n",
       "      <th>director</th>\n",
       "      <th>keywords</th>\n",
       "      <th>genres</th>\n",
       "      <th>rating</th>\n",
       "    </tr>\n",
       "  </thead>\n",
       "  <tbody>\n",
       "    <tr>\n",
       "      <th>859</th>\n",
       "      <td>Any Day Now</td>\n",
       "      <td>[alancumming, garretdillahunt, isaacleyva]</td>\n",
       "      <td>travisfine</td>\n",
       "      <td>[california, dragqueen, homophobia]</td>\n",
       "      <td>[drama]</td>\n",
       "      <td>5.0</td>\n",
       "    </tr>\n",
       "    <tr>\n",
       "      <th>2303</th>\n",
       "      <td>Phil Spector</td>\n",
       "      <td>[helenmirren, alpacino, jeffreytambor]</td>\n",
       "      <td>davidmamet</td>\n",
       "      <td>[]</td>\n",
       "      <td>[tvmovie, drama]</td>\n",
       "      <td>5.0</td>\n",
       "    </tr>\n",
       "    <tr>\n",
       "      <th>3832</th>\n",
       "      <td>Yellow Rock</td>\n",
       "      <td>[michaelbiehn, jamesrusso, lenoreandriel]</td>\n",
       "      <td>nickvallelonga</td>\n",
       "      <td>[missingchild]</td>\n",
       "      <td>[western]</td>\n",
       "      <td>5.0</td>\n",
       "    </tr>\n",
       "    <tr>\n",
       "      <th>3736</th>\n",
       "      <td>Burning Secret</td>\n",
       "      <td>[davideberts, fayedunaway, klausmariabrandauer]</td>\n",
       "      <td>andrewbirkin</td>\n",
       "      <td>[austria, americandiplomat]</td>\n",
       "      <td>[drama]</td>\n",
       "      <td>5.0</td>\n",
       "    </tr>\n",
       "    <tr>\n",
       "      <th>3321</th>\n",
       "      <td>Brannigan</td>\n",
       "      <td>[johnwayne, richardattenborough, judygeeson]</td>\n",
       "      <td>douglashickox</td>\n",
       "      <td>[londonengland, scotlandyard, cop]</td>\n",
       "      <td>[action, crime, drama]</td>\n",
       "      <td>5.0</td>\n",
       "    </tr>\n",
       "  </tbody>\n",
       "</table>\n",
       "</div>"
      ],
      "text/plain": [
       "               title                                             cast  \\\n",
       "859      Any Day Now       [alancumming, garretdillahunt, isaacleyva]   \n",
       "2303    Phil Spector           [helenmirren, alpacino, jeffreytambor]   \n",
       "3832     Yellow Rock        [michaelbiehn, jamesrusso, lenoreandriel]   \n",
       "3736  Burning Secret  [davideberts, fayedunaway, klausmariabrandauer]   \n",
       "3321       Brannigan     [johnwayne, richardattenborough, judygeeson]   \n",
       "\n",
       "            director                             keywords  \\\n",
       "859       travisfine  [california, dragqueen, homophobia]   \n",
       "2303      davidmamet                                   []   \n",
       "3832  nickvallelonga                       [missingchild]   \n",
       "3736    andrewbirkin          [austria, americandiplomat]   \n",
       "3321   douglashickox   [londonengland, scotlandyard, cop]   \n",
       "\n",
       "                      genres rating  \n",
       "859                  [drama]    5.0  \n",
       "2303        [tvmovie, drama]    5.0  \n",
       "3832               [western]    5.0  \n",
       "3736                 [drama]    5.0  \n",
       "3321  [action, crime, drama]    5.0  "
      ]
     },
     "execution_count": 12,
     "metadata": {},
     "output_type": "execute_result"
    }
   ],
   "source": [
    "# Apply clean_data function to your features.\n",
    "features = ['cast', 'keywords', 'director', 'genres']\n",
    "\n",
    "for feature in features:\n",
    "    metadata[feature] = metadata[feature].apply(clean_data)\n",
    "\n",
    "metadata[['title', 'cast', 'director', 'keywords', 'genres','rating']].head()"
   ]
  },
  {
   "cell_type": "markdown",
   "id": "4b42acb8",
   "metadata": {},
   "source": [
    "#### The dataframe 'metadata' holds all pre-processed values in itself. Thiis dataframe will be used to the cosine simialrity algorithm"
   ]
  },
  {
   "cell_type": "code",
   "execution_count": 13,
   "id": "0f5a87d6",
   "metadata": {},
   "outputs": [
    {
     "data": {
      "text/html": [
       "<div>\n",
       "<style scoped>\n",
       "    .dataframe tbody tr th:only-of-type {\n",
       "        vertical-align: middle;\n",
       "    }\n",
       "\n",
       "    .dataframe tbody tr th {\n",
       "        vertical-align: top;\n",
       "    }\n",
       "\n",
       "    .dataframe thead th {\n",
       "        text-align: right;\n",
       "    }\n",
       "</style>\n",
       "<table border=\"1\" class=\"dataframe\">\n",
       "  <thead>\n",
       "    <tr style=\"text-align: right;\">\n",
       "      <th></th>\n",
       "      <th>title</th>\n",
       "      <th>soup</th>\n",
       "      <th>cast</th>\n",
       "      <th>director</th>\n",
       "      <th>keywords</th>\n",
       "      <th>genres</th>\n",
       "      <th>rating</th>\n",
       "    </tr>\n",
       "  </thead>\n",
       "  <tbody>\n",
       "    <tr>\n",
       "      <th>859</th>\n",
       "      <td>Any Day Now</td>\n",
       "      <td>california dragqueen homophobia alancumming ga...</td>\n",
       "      <td>[alancumming, garretdillahunt, isaacleyva]</td>\n",
       "      <td>travisfine</td>\n",
       "      <td>[california, dragqueen, homophobia]</td>\n",
       "      <td>[drama]</td>\n",
       "      <td>5.0</td>\n",
       "    </tr>\n",
       "    <tr>\n",
       "      <th>2303</th>\n",
       "      <td>Phil Spector</td>\n",
       "      <td>helenmirren alpacino jeffreytambor davidmamet...</td>\n",
       "      <td>[helenmirren, alpacino, jeffreytambor]</td>\n",
       "      <td>davidmamet</td>\n",
       "      <td>[]</td>\n",
       "      <td>[tvmovie, drama]</td>\n",
       "      <td>5.0</td>\n",
       "    </tr>\n",
       "    <tr>\n",
       "      <th>3832</th>\n",
       "      <td>Yellow Rock</td>\n",
       "      <td>missingchild michaelbiehn jamesrusso lenoreand...</td>\n",
       "      <td>[michaelbiehn, jamesrusso, lenoreandriel]</td>\n",
       "      <td>nickvallelonga</td>\n",
       "      <td>[missingchild]</td>\n",
       "      <td>[western]</td>\n",
       "      <td>5.0</td>\n",
       "    </tr>\n",
       "    <tr>\n",
       "      <th>3736</th>\n",
       "      <td>Burning Secret</td>\n",
       "      <td>austria americandiplomat davideberts fayedunaw...</td>\n",
       "      <td>[davideberts, fayedunaway, klausmariabrandauer]</td>\n",
       "      <td>andrewbirkin</td>\n",
       "      <td>[austria, americandiplomat]</td>\n",
       "      <td>[drama]</td>\n",
       "      <td>5.0</td>\n",
       "    </tr>\n",
       "    <tr>\n",
       "      <th>3321</th>\n",
       "      <td>Brannigan</td>\n",
       "      <td>londonengland scotlandyard cop johnwayne richa...</td>\n",
       "      <td>[johnwayne, richardattenborough, judygeeson]</td>\n",
       "      <td>douglashickox</td>\n",
       "      <td>[londonengland, scotlandyard, cop]</td>\n",
       "      <td>[action, crime, drama]</td>\n",
       "      <td>5.0</td>\n",
       "    </tr>\n",
       "  </tbody>\n",
       "</table>\n",
       "</div>"
      ],
      "text/plain": [
       "               title                                               soup  \\\n",
       "859      Any Day Now  california dragqueen homophobia alancumming ga...   \n",
       "2303    Phil Spector   helenmirren alpacino jeffreytambor davidmamet...   \n",
       "3832     Yellow Rock  missingchild michaelbiehn jamesrusso lenoreand...   \n",
       "3736  Burning Secret  austria americandiplomat davideberts fayedunaw...   \n",
       "3321       Brannigan  londonengland scotlandyard cop johnwayne richa...   \n",
       "\n",
       "                                                 cast        director  \\\n",
       "859        [alancumming, garretdillahunt, isaacleyva]      travisfine   \n",
       "2303           [helenmirren, alpacino, jeffreytambor]      davidmamet   \n",
       "3832        [michaelbiehn, jamesrusso, lenoreandriel]  nickvallelonga   \n",
       "3736  [davideberts, fayedunaway, klausmariabrandauer]    andrewbirkin   \n",
       "3321     [johnwayne, richardattenborough, judygeeson]   douglashickox   \n",
       "\n",
       "                                 keywords                  genres rating  \n",
       "859   [california, dragqueen, homophobia]                 [drama]    5.0  \n",
       "2303                                   []        [tvmovie, drama]    5.0  \n",
       "3832                       [missingchild]               [western]    5.0  \n",
       "3736          [austria, americandiplomat]                 [drama]    5.0  \n",
       "3321   [londonengland, scotlandyard, cop]  [action, crime, drama]    5.0  "
      ]
     },
     "execution_count": 13,
     "metadata": {},
     "output_type": "execute_result"
    }
   ],
   "source": [
    "\n",
    "def create_soup(x):\n",
    "    return ' '.join(x['keywords']) + ' ' + ' '.join(x['cast']) + ' ' + x['director'] + ' ' + ' '.join(x['genres'])\n",
    "                                                                                                      \n",
    "metadata['soup'] = metadata.apply(create_soup, axis=1)\n",
    "#metadata.head()\n",
    "metadata[['title', 'soup', 'cast', 'director', 'keywords', 'genres','rating']].head()"
   ]
  },
  {
   "cell_type": "code",
   "execution_count": 14,
   "id": "aee90392",
   "metadata": {},
   "outputs": [],
   "source": [
    "#Getting the user's input for genre, actors and directors of their liking.\n",
    "def get_genres():\n",
    "  genres = input(\"What Movie Genre are you interested in like Action , Comedy , Drama(if multiple, please separate them with a comma)? [Type 'skip' to skip this question] \")\n",
    "  genres = \" \".join([\"\".join(n.split()) for n in genres.lower().split(',')])\n",
    "  return genres\n",
    "\n",
    "def get_actors():\n",
    "  actors = input(\"Who are some actors within the genre that you like  (if multiple, please separate them with a comma)? [Type 'skip' to skip this question] \")\n",
    "  actors = \" \".join([\"\".join(n.split()) for n in actors.lower().split(',')])\n",
    "  return actors\n",
    "\n",
    "def get_directors():\n",
    "  directors = input(\"Who are some directors within the genre that you like  (if multiple, please separate them with a comma)? [Type 'skip' to skip this question] \")\n",
    "  directors = \" \".join([\"\".join(n.split()) for n in directors.lower().split(',')])\n",
    "  return directors\n",
    "\n",
    "def get_keywords():\n",
    "  keywords = input(\"What are some of the keywords that describe the movie you want to watch, like elements of the plot, whether or not it is about friendship,boardgame etc? (if multiple, please separate them with a comma)? [Type 'skip' to skip this question] \")\n",
    "  keywords = \" \".join([\"\".join(n.split()) for n in keywords.lower().split(',')])\n",
    "  return keywords\n",
    "\n",
    "def get_searchTerms():\n",
    "  searchTerms = [] \n",
    "  genres = get_genres()\n",
    "  if genres != 'skip':\n",
    "    searchTerms.append(genres)\n",
    "\n",
    "  actors = get_actors()\n",
    "  if actors != 'skip':\n",
    "    searchTerms.append(actors)\n",
    "\n",
    "  directors = get_directors()\n",
    "  if directors != 'skip':\n",
    "    searchTerms.append(directors)\n",
    "\n",
    "  keywords = get_keywords()\n",
    "  if keywords != 'skip':\n",
    "    searchTerms.append(keywords)\n",
    "  \n",
    "  return searchTerms"
   ]
  },
  {
   "cell_type": "code",
   "execution_count": 15,
   "id": "c6914c00",
   "metadata": {},
   "outputs": [],
   "source": [
    "from sklearn.feature_extraction.text import CountVectorizer\n",
    "from sklearn.metrics.pairwise import cosine_similarity\n",
    "\n",
    "def make_recommendation(metadata=metadata):\n",
    "  new_row = metadata.iloc[-1,:].copy() #creating a copy of the last row of the \n",
    "  #dataset, which we will use to input the user's input\n",
    "  \n",
    "  #grabbing the new wordsoup from the user\n",
    "  searchTerms = get_searchTerms()  \n",
    "  new_row.iloc[-1] = \" \".join(searchTerms) #adding the input to our new row\n",
    "  \n",
    "  #adding the new row to the dataset\n",
    "  metadata = metadata.append(new_row)\n",
    "  \n",
    "  #Vectorizing the entire matrix \n",
    "  count = CountVectorizer(stop_words='english')\n",
    "  count_matrix = count.fit_transform(metadata['soup'])\n",
    "\n",
    "  #Obtaining cosine similarity \n",
    "  cosine_sim2 = cosine_similarity(count_matrix, count_matrix) \n",
    "  \n",
    "  #sorting cosine similarities by highest to lowest\n",
    "  sim_scores = list(enumerate(cosine_sim2[-1,:]))\n",
    "  sim_scores = sorted(sim_scores, key=lambda x: x[1], reverse=True)\n",
    "\n",
    "  #matching the similarities to the movie titles and ids\n",
    "  ranked_titles = []\n",
    "  for i in range(1, 11):\n",
    "    indx = sim_scores[i][0]\n",
    "    ranked_titles.append([metadata['title'].iloc[indx], metadata['imdb_id'].iloc[indx]])\n",
    "  \n",
    "  return ranked_titles"
   ]
  },
  {
   "cell_type": "code",
   "execution_count": 16,
   "id": "f7bd8dff",
   "metadata": {},
   "outputs": [
    {
     "data": {
      "text/plain": [
       "[['Bill Burr: Why Do I Do This?', 'tt1254947'],\n",
       " ['Stewart Lee: If You Prefer a Milder Comedian, Please Ask for One',\n",
       "  'tt1756754'],\n",
       " ['Patton Oswalt: My Weakness Is Strong', 'tt1503646'],\n",
       " ['Six Days Seven Nights', 'tt0120828'],\n",
       " ['Working Girl', 'tt0096463'],\n",
       " ['Case départ', 'tt1821362'],\n",
       " ['Jeff Dunham: Minding the Monsters', 'tt2461736'],\n",
       " ['Fallen Art', 'tt0440846'],\n",
       " ['Bill Burr: Let It Go', 'tt1717578'],\n",
       " ['Kevin Hart: Seriously Funny', 'tt1714196']]"
      ]
     },
     "execution_count": 16,
     "metadata": {},
     "output_type": "execute_result"
    }
   ],
   "source": [
    "make_recommendation()"
   ]
  }
 ],
 "metadata": {
  "kernelspec": {
   "display_name": "Python 3 (ipykernel)",
   "language": "python",
   "name": "python3"
  },
  "language_info": {
   "codemirror_mode": {
    "name": "ipython",
    "version": 3
   },
   "file_extension": ".py",
   "mimetype": "text/x-python",
   "name": "python",
   "nbconvert_exporter": "python",
   "pygments_lexer": "ipython3",
   "version": "3.9.12"
  }
 },
 "nbformat": 4,
 "nbformat_minor": 5
}
