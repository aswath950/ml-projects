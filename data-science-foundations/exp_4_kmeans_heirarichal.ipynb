{
 "cells": [
  {
   "cell_type": "markdown",
   "metadata": {},
   "source": [
    "# Experiment 4 - Heirarichal clustering - K Means \n",
    "#### Optimal K (no of clusters) discovery\n",
    "#### Clustering based on Min,Max and Avg\n",
    "#### Clustering Visualization"
   ]
  },
  {
   "cell_type": "code",
   "execution_count": 1,
   "metadata": {},
   "outputs": [],
   "source": [
    "from sklearn.cluster import KMeans as kmn\n",
    "import numpy as np\n",
    "import pandas as pd\n",
    "from collections import defaultdict\n",
    "import matplotlib.pyplot as plt\n",
    "import copy\n",
    "from scipy.cluster import hierarchy\n",
    "from scipy.cluster.hierarchy import linkage, is_valid_linkage\n"
   ]
  },
  {
   "cell_type": "markdown",
   "metadata": {},
   "source": [
    "## Part - 1\n",
    "\n",
    "## Using k-means to create clusters"
   ]
  },
  {
   "cell_type": "code",
   "execution_count": 2,
   "metadata": {},
   "outputs": [
    {
     "name": "stdout",
     "output_type": "stream",
     "text": [
      "   84  152  100  52   95  186  169  106  37  186.1  ...  190  65  214  116  \\\n",
      "0  86  149  101  56   93  181  171  116  37    192  ...  191  79  215  116   \n",
      "1  83  149   99  51   96  187  169  108  34    191  ...  190  65  213  118   \n",
      "2  86  142  101  64  105  183  172  116  49    180  ...  186  69  209  120   \n",
      "3  89  145  108  54   91  180  175  107  35    192  ...  188  67  212  118   \n",
      "4  84  152  100  52   96  187  171  109  38    187  ...  190  64  216  114   \n",
      "\n",
      "   75  55.1  123  65.1  154  177  \n",
      "0  76    60  130    71  151  181  \n",
      "1  73    55  125    63  155  178  \n",
      "2  68    56  123    67  144  181  \n",
      "3  91    50  135    58  147  165  \n",
      "4  76    54  124    64  153  176  \n",
      "\n",
      "[5 rows x 32 columns]\n",
      "(1023, 32)\n"
     ]
    }
   ],
   "source": [
    "df = pd.read_fwf(\"dim032.txt\",delimiter=\" \")\n",
    "\n",
    "print(df.head())\n",
    "print(df.shape)"
   ]
  },
  {
   "cell_type": "code",
   "execution_count": 3,
   "metadata": {},
   "outputs": [
    {
     "data": {
      "text/plain": [
       "Text(0, 0.5, 'SSE values')"
      ]
     },
     "execution_count": 3,
     "metadata": {},
     "output_type": "execute_result"
    },
    {
     "data": {
      "image/png": "[encoded data removed]",
      "text/plain": [
       "<Figure size 432x288 with 1 Axes>"
      ]
     },
     "metadata": {
      "needs_background": "light"
     },
     "output_type": "display_data"
    }
   ],
   "source": [
    "sse_Error = []\n",
    "\n",
    "for i in range(1,20):\n",
    "\n",
    "    kmeans = kmn(n_clusters=i).fit(df)\n",
    "    kmeans.fit(df)\n",
    "\n",
    "    sse_Error.append(kmeans.inertia_)\n",
    "\n",
    "\n",
    "#Plotting the error to no of clusters\n",
    "\n",
    "plt.plot(range(1,20),sse_Error)\n",
    "plt.title(\"SSE vs No of clusters\")\n",
    "plt.xlabel(\"No of clusters\")\n",
    "plt.ylabel(\"SSE values\")\n",
    "\n",
    "# K = 16 is the end of the elbow. Therefore this value will be used to be the optimal cluster value. "
   ]
  },
  {
   "cell_type": "code",
   "execution_count": 4,
   "metadata": {},
   "outputs": [
    {
     "name": "stdout",
     "output_type": "stream",
     "text": [
      "(1023,)\n"
     ]
    }
   ],
   "source": [
    "kmeans = kmn(n_clusters=16)\n",
    "\n",
    "kmeans.fit(df)\n",
    "labels = kmeans.labels_\n",
    "\n",
    "# print(\"Labels:\",set(kmeans.labels_))\n",
    "print(labels.shape)\n"
   ]
  },
  {
   "cell_type": "markdown",
   "metadata": {},
   "source": [
    "# Heirarchial clustering\n",
    "### Using the created clusters through k-means. We use hierarichal clustering to to perform clustering on the rest of the clusters"
   ]
  },
  {
   "cell_type": "code",
   "execution_count": 5,
   "metadata": {},
   "outputs": [],
   "source": [
    "# Creation of a dictionary to hold the cluster indexes\n",
    "\n",
    "clusters_labels = {}\n",
    "\n",
    "\n",
    "#The dictionary holds the \n",
    "\n",
    "labels = list(kmeans.labels_)\n",
    "\n",
    "for i in labels:\n",
    "    clusters_labels[i]= i\n",
    "\n",
    "cluster_map_max = copy.deepcopy(clusters_labels)\n",
    "cluster_map_avg = copy.deepcopy(clusters_labels)\n",
    "cluster_map_min = copy.deepcopy(clusters_labels)\n",
    "\n",
    "# print(clusters_labels)\n"
   ]
  },
  {
   "cell_type": "code",
   "execution_count": 6,
   "metadata": {},
   "outputs": [
    {
     "name": "stdout",
     "output_type": "stream",
     "text": [
      "(1023, 33)\n"
     ]
    }
   ],
   "source": [
    "labels = list(kmeans.labels_)\n",
    "df= np.c_[df, labels ]\n",
    "print((df.shape))"
   ]
  },
  {
   "cell_type": "code",
   "execution_count": 7,
   "metadata": {},
   "outputs": [],
   "source": [
    "#Extracting datapoints values and clustering them based on their classified group\n",
    "# Using dictionary for easy call up\n",
    "clusters_labeled = defaultdict(list)\n",
    "\n",
    "for x in df:\n",
    "    j = x[0:31].tolist()\n",
    "    clusters_labeled[int(x[32])].append(j)"
   ]
  },
  {
   "cell_type": "code",
   "execution_count": 8,
   "metadata": {},
   "outputs": [],
   "source": [
    "# A dictionary to hold all the distance values b/w points in the dataset\n",
    "dictionary = defaultdict(dict)\n",
    "\n",
    "for i in clusters_labeled.keys():\n",
    "    for j in clusters_labeled.keys():\n",
    "        dictionary[int(i)][int(j)] = 9999999\n",
    "\n",
    "for i in clusters_labeled.keys():\n",
    "    for j in clusters_labeled.keys():\n",
    "        for k in clusters_labeled[i]:\n",
    "            for l in clusters_labeled[j]:\n",
    "                dictionary[int(i)][int(j)] = min(dictionary[int(i)][int(j)],np.sqrt(np.sum(np.power((np.array(k)-np.array(l)),2))))"
   ]
  },
  {
   "cell_type": "code",
   "execution_count": 9,
   "metadata": {},
   "outputs": [],
   "source": [
    "#Removing the same values in the diagonal to prevent closest clusters\n",
    "\n",
    "for i in list(dictionary):\n",
    "    for j in list(dictionary[i]):\n",
    "        if(i==j):\n",
    "            del dictionary[int(i)][int(j)]"
   ]
  },
  {
   "cell_type": "code",
   "execution_count": 10,
   "metadata": {},
   "outputs": [],
   "source": [
    "#Assigning every cluster to level 1, will update these cluster levels as they get combined to form larger clusters \n",
    "\n",
    "cluster_list = list(clusters_labeled.keys())\n",
    "cluster_count = {}\n",
    "for i in clusters_labeled.keys():\n",
    "    cluster_count[i] = 1\n",
    "\n",
    "cluster_count_max = copy.deepcopy(cluster_count)\n",
    "cluster_count_avg = copy.deepcopy(cluster_count)\n"
   ]
  },
  {
   "cell_type": "code",
   "execution_count": 11,
   "metadata": {},
   "outputs": [],
   "source": [
    "# Making copies of cluster to keep into account for both avg and max functions \n",
    "cluster_list_max = copy.deepcopy(cluster_list)\n",
    "cluster_list_avg = copy.deepcopy(cluster_list)"
   ]
  },
  {
   "cell_type": "code",
   "execution_count": 12,
   "metadata": {},
   "outputs": [],
   "source": [
    "#Making copies of the dictionary holding classifcications of each datapoint\n",
    "\n",
    "dictionary_max = copy.deepcopy(dictionary)\n",
    "dictionary_avg = copy.deepcopy(dictionary)\n",
    "dictionary_min = copy.deepcopy(dictionary)"
   ]
  },
  {
   "cell_type": "code",
   "execution_count": 13,
   "metadata": {},
   "outputs": [],
   "source": [
    "def lance_williams_dist(ci,cj,ck,d,alpha1,alpha2,beta,gamma):\n",
    "    if(ci!=cj and cj!=ck and ci!=ck):\n",
    "        d[(ci,cj)][ck] = alpha1*d[ci][ck] + alpha2*d[cj][ck] + beta*d[ci][cj] + gamma*abs(d[ci][ck]-d[cj][ck])\n",
    "        d[ck][(ci,cj)] = alpha1*d[ci][ck] + alpha2*d[cj][ck] + beta*d[ci][cj] + gamma*abs(d[ci][ck]-d[cj][ck])\n",
    "        "
   ]
  },
  {
   "cell_type": "code",
   "execution_count": 14,
   "metadata": {},
   "outputs": [
    {
     "name": "stdout",
     "output_type": "stream",
     "text": [
      "key previously removed\n",
      "key previously removed\n",
      "key previously removed\n",
      "key previously removed\n",
      "key previously removed\n",
      "key previously removed\n",
      "key previously removed\n",
      "key previously removed\n",
      "key previously removed\n",
      "key previously removed\n",
      "key previously removed\n",
      "key previously removed\n",
      "key previously removed\n",
      "key previously removed\n"
     ]
    }
   ],
   "source": [
    "#  Using \n",
    "\n",
    "c1 = 0\n",
    "c2 = 1\n",
    "\n",
    "linkage_table = []\n",
    "index = 0\n",
    "\n",
    "n = len(cluster_list)\n",
    "while(len(cluster_list)!=1):\n",
    "    #pick the smallest proximity distance from d\n",
    "    min_val = 10000\n",
    "    for i in dictionary_min:\n",
    "        key_list = list(dictionary_min[i].keys())\n",
    "        if(min(dictionary_min[i].values()) < min_val):\n",
    "            c1 = i\n",
    "            c2 = [k for k, v in dictionary_min[i].items() if v == min(dictionary_min[i].values())][0]\n",
    "            min_val = min(dictionary_min[i].values())\n",
    "            \n",
    "    #add the cluster to the ith position in table\n",
    "    linkage_table.append([cluster_map_min[c1],cluster_map_min[c2],min_val,cluster_count[c1]+cluster_count[c2]])\n",
    "    cluster_count[(c1,c2)] = cluster_count[c1]+cluster_count[c2]\n",
    "    \n",
    "    #map the new cluster to a n+i\n",
    "    cluster_map_min[(c1,c2)] = n+index\n",
    "    index+=1\n",
    "    \n",
    "    #recalculate the distance to this cluster\n",
    "    for i in cluster_list:\n",
    "        lance_williams_dist(c1,c2,i,dictionary_min,0.5,0.5,0,-0.5)\n",
    "    \n",
    "    #append to a list of clusters\n",
    "    cluster_list.append((c1,c2))\n",
    "    \n",
    "  \n",
    "    del dictionary_min[c1]\n",
    "    del dictionary_min[c2]\n",
    "    \n",
    "    \n",
    "    keys = list(dictionary_min.keys())\n",
    "    for i in keys:\n",
    "        try:\n",
    "            if(i!=c1 or c1 not in i):\n",
    "                del dictionary_min[i][c1]\n",
    "            if(i!=c2 or c2 not in i):\n",
    "                del dictionary_min[i][c2]\n",
    "        except KeyError:\n",
    "            print(\"key previously removed\")\n",
    "    \n",
    "    cluster_list.remove(c1)\n",
    "    cluster_list.remove(c2)\n",
    "    \n",
    "  "
   ]
  },
  {
   "cell_type": "code",
   "execution_count": 15,
   "metadata": {},
   "outputs": [
    {
     "name": "stdout",
     "output_type": "stream",
     "text": [
      "[[1, 15, 280.34086394958547, 2], [0, 14, 289.81718375555306, 2], [12, 13, 304.05262702367827, 2], [5, 17, 308.4461055030522, 3], [11, 19, 309.07604242321986, 4], [3, 16, 309.23777259578105, 3], [2, 20, 316.0933406448165, 5], [7, 22, 325.7360894957757, 6], [18, 21, 326.2621645241753, 5], [10, 24, 345.97976819461564, 6], [8, 25, 347.8836012231677, 7], [23, 26, 352.1235578600216, 13], [9, 27, 352.99716712744305, 14], [4, 28, 353.9901128562774, 15], [6, 29, 359.8527476621514, 16]]\n"
     ]
    }
   ],
   "source": [
    "print(linkage_table)\n",
    "\n",
    "linkage_table=np.array([np.array(xi) for xi in linkage_table])"
   ]
  },
  {
   "cell_type": "code",
   "execution_count": 16,
   "metadata": {},
   "outputs": [
    {
     "name": "stdout",
     "output_type": "stream",
     "text": [
      "[[  1.          15.         280.34086395   2.        ]\n",
      " [  0.          14.         289.81718376   2.        ]\n",
      " [ 12.          13.         304.05262702   2.        ]\n",
      " [  5.          17.         308.4461055    3.        ]\n",
      " [ 11.          19.         309.07604242   4.        ]\n",
      " [  3.          16.         309.2377726    3.        ]\n",
      " [  2.          20.         316.09334064   5.        ]\n",
      " [  7.          22.         325.7360895    6.        ]\n",
      " [ 18.          21.         326.26216452   5.        ]\n",
      " [ 10.          24.         345.97976819   6.        ]\n",
      " [  8.          25.         347.88360122   7.        ]\n",
      " [ 23.          26.         352.12355786  13.        ]\n",
      " [  9.          27.         352.99716713  14.        ]\n",
      " [  4.          28.         353.99011286  15.        ]\n",
      " [  6.          29.         359.85274766  16.        ]]\n"
     ]
    }
   ],
   "source": [
    "print(linkage_table)"
   ]
  },
  {
   "cell_type": "code",
   "execution_count": 17,
   "metadata": {},
   "outputs": [
    {
     "data": {
      "image/png": "[encoded data removed]",
      "text/plain": [
       "<Figure size 432x288 with 1 Axes>"
      ]
     },
     "metadata": {
      "needs_background": "light"
     },
     "output_type": "display_data"
    }
   ],
   "source": [
    "dn = hierarchy.dendrogram(linkage_table)"
   ]
  },
  {
   "cell_type": "code",
   "execution_count": 18,
   "metadata": {},
   "outputs": [
    {
     "name": "stdout",
     "output_type": "stream",
     "text": [
      "key previously removed\n",
      "key previously removed\n",
      "key previously removed\n",
      "key previously removed\n",
      "key previously removed\n",
      "key previously removed\n",
      "key previously removed\n",
      "key previously removed\n",
      "key previously removed\n",
      "key previously removed\n",
      "key previously removed\n",
      "key previously removed\n",
      "key previously removed\n",
      "key previously removed\n"
     ]
    }
   ],
   "source": [
    "#Using max distance to perform the clustering\n",
    "\n",
    "c1_max = 0\n",
    "c2_max = 1\n",
    "\n",
    "\n",
    "linkage_table = []\n",
    "index = 0\n",
    "\n",
    "n = len(cluster_list_max)\n",
    "while(len(cluster_list_max)!=1):\n",
    "   \n",
    "    min_val = 10000\n",
    "    for i in dictionary_max:\n",
    "        key_list = list(dictionary_max[i].keys())\n",
    "        if(min(dictionary_max[i].values()) < min_val):\n",
    "            c1_max = i\n",
    "            c2_max = [k for k, v in dictionary_max[i].items() if v == min(dictionary_max[i].values())][0]\n",
    "            \n",
    "            min_val = min(dictionary_max[i].values())\n",
    "            \n",
    "   \n",
    "    linkage_table.append([cluster_map_max[c1_max],cluster_map_max[c2_max],min_val,cluster_count_max[c1_max]+cluster_count_max[c2_max]])\n",
    "    cluster_count_max[(c1_max,c2_max)] = cluster_count_max[c1_max]+cluster_count_max[c2_max]\n",
    "    \n",
    "   \n",
    "    cluster_map_max[(c1_max,c2_max)] = n+index\n",
    "    index+=1\n",
    "    \n",
    "   \n",
    "    for i in cluster_list_max:\n",
    "        lance_williams_dist(c1_max,c2_max,i,dictionary_max,0.5,0.5,0,0.5)\n",
    "    \n",
    "   \n",
    "    cluster_list_max.append((c1_max,c2_max))\n",
    "    \n",
    " \n",
    "    del dictionary_max[c1_max]\n",
    "    del dictionary_max[c2_max]\n",
    "    \n",
    "  \n",
    "    keys = list(dictionary_max.keys())\n",
    "    for i in keys:\n",
    "        try:\n",
    "            if(i!=c1_max or c1_max not in i):\n",
    "                del dictionary_max[i][c1_max]\n",
    "            if(i!=c2_max or c2_max not in i):\n",
    "                del dictionary_max[i][c2_max]\n",
    "        except KeyError:\n",
    "            print(\"key previously removed\")\n",
    "    \n",
    "    cluster_list_max.remove(c1_max)\n",
    "    cluster_list_max.remove(c2_max)\n",
    "    \n",
    "    "
   ]
  },
  {
   "cell_type": "code",
   "execution_count": 19,
   "metadata": {},
   "outputs": [
    {
     "data": {
      "image/png": "[encoded data removed]",
      "text/plain": [
       "<Figure size 432x288 with 1 Axes>"
      ]
     },
     "metadata": {
      "needs_background": "light"
     },
     "output_type": "display_data"
    }
   ],
   "source": [
    "linkage_table=np.array([np.array(xi) for xi in linkage_table])\n",
    "\n",
    "dn = hierarchy.dendrogram(linkage_table)"
   ]
  },
  {
   "cell_type": "code",
   "execution_count": 20,
   "metadata": {},
   "outputs": [
    {
     "name": "stdout",
     "output_type": "stream",
     "text": [
      "key previously removed\n",
      "key previously removed\n",
      "key previously removed\n",
      "key previously removed\n",
      "key previously removed\n",
      "key previously removed\n",
      "key previously removed\n",
      "key previously removed\n",
      "key previously removed\n",
      "key previously removed\n",
      "key previously removed\n",
      "key previously removed\n",
      "key previously removed\n",
      "key previously removed\n"
     ]
    }
   ],
   "source": [
    "#Using AVG as clustering method to agglormerate \n",
    "\n",
    "import math\n",
    "\n",
    "c1_avg = 0\n",
    "c2_avg = 1\n",
    "\n",
    "c1_size = 0\n",
    "c2_size = 0\n",
    "\n",
    "linkage_table = []\n",
    "index = 0\n",
    "\n",
    "while(len(cluster_list_avg)!=1):\n",
    "    \n",
    "    min_val = math.inf\n",
    "    for i in dictionary_avg:\n",
    "        key_list = list(dictionary_avg[i].keys())\n",
    "        if(min(dictionary_avg[i].values()) < min_val):\n",
    "            c1_avg = i\n",
    "            c2_avg = [k for k, v in dictionary_avg[i].items() if v == min(dictionary_avg[i].values())][0]\n",
    "            min_val = min(dictionary_avg[i].values())\n",
    "            \n",
    "    \n",
    "    linkage_table.append([cluster_map_avg[c1_avg],cluster_map_avg[c2_avg],min_val,cluster_count_avg[c1_avg]+cluster_count_avg[c2_avg]])\n",
    "    cluster_count_avg[(c1_avg,c2_avg)] = cluster_count_avg[c1_avg]+cluster_count_avg[c2_avg]\n",
    "    \n",
    "    \n",
    "    cluster_map_avg[(c1_avg,c2_avg)] = n+index\n",
    "    index+=1\n",
    "\n",
    "    \n",
    "    for i in cluster_list_avg:\n",
    "        lance_williams_dist(c1_avg,c2_avg,i,dictionary_avg,cluster_count[c1_avg],cluster_count[c2_avg],0,0.5)\n",
    "    \n",
    "    \n",
    "    cluster_list_avg.append((c1_avg,c2_avg))\n",
    "    cluster_count[(c1_avg, c2_avg)] = cluster_count[c1_avg]+cluster_count[c2_avg]\n",
    "    \n",
    "    del dictionary_avg[c1_avg]\n",
    "    del dictionary_avg[c2_avg]\n",
    "    \n",
    "    \n",
    "    keys = list(dictionary_avg.keys())\n",
    "    for i in keys:\n",
    "        try:\n",
    "            if(i!=c1_avg or c1_avg not in i):\n",
    "                del dictionary_avg[i][c1_avg]\n",
    "            if(i!=c2_avg or c2_avg not in i):\n",
    "                del dictionary_avg[i][c2_avg]\n",
    "        except KeyError:\n",
    "            print(\"key previously removed\")\n",
    "    \n",
    "    cluster_list_avg.remove(c1_avg)\n",
    "    cluster_list_avg.remove(c2_avg)\n",
    "    \n",
    "    # print(\"c1_max and c2_max removed\")"
   ]
  },
  {
   "cell_type": "code",
   "execution_count": 21,
   "metadata": {},
   "outputs": [
    {
     "data": {
      "image/png": "[encoded data removed]",
      "text/plain": [
       "<Figure size 432x288 with 1 Axes>"
      ]
     },
     "metadata": {
      "needs_background": "light"
     },
     "output_type": "display_data"
    }
   ],
   "source": [
    "linkage_table=np.array([np.array(xi) for xi in linkage_table])\n",
    "dn = hierarchy.dendrogram(linkage_table)"
   ]
  }
 ],
 "metadata": {
  "kernelspec": {
   "display_name": "Python 3.9.12 64-bit",
   "language": "python",
   "name": "python3"
  },
  "language_info": {
   "codemirror_mode": {
    "name": "ipython",
    "version": 3
   },
   "file_extension": ".py",
   "mimetype": "text/x-python",
   "name": "python",
   "nbconvert_exporter": "python",
   "pygments_lexer": "ipython3",
   "version": "3.9.12"
  },
  "orig_nbformat": 4,
  "vscode": {
   "interpreter": {
    "hash": "aee8b7b246df8f9039afb4144a1f6fd8d2ca17a180786b69acc140d282b71a49"
   }
  }
 },
 "nbformat": 4,
 "nbformat_minor": 2
}
