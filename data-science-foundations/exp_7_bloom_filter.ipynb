{
 "cells": [
  {
   "cell_type": "markdown",
   "metadata": {},
   "source": [
    "# Experiment 7 - Bloom Filter -  Identifying Spam Emails\n",
    "#### Choosing ideal hash size(n)\n",
    "#### Identifying optimal number of hash functions \n",
    "#### Identifying spam email addresses."
   ]
  },
  {
   "cell_type": "code",
   "execution_count": 1,
   "metadata": {},
   "outputs": [],
   "source": [
    "import pandas as pd\n",
    "import numpy as np\n",
    "import math\n",
    "import mmh3\n"
   ]
  },
  {
   "cell_type": "code",
   "execution_count": 2,
   "metadata": {},
   "outputs": [
    {
     "name": "stdout",
     "output_type": "stream",
     "text": [
      "353217\n",
      "['!Alain', '#file_links[\"C:urlsactivity0711.txt\",1,N]', '#file_links[\"C:urlsactivity1311.txt\",1,N]', '#file_links[\"C:workmacrosincacar_url.txt\",1,N]', '#file_links[\"C:\\\\\\\\urls\\\\\\\\activity0311.txt\",1,N]', '#file_links[\"C:\\\\\\\\urls\\\\\\\\activity0711.txt\",1,N]', '#file_links[\"C:\\\\\\\\urls\\\\\\\\activity1311.txt\",1,N]', '#file_links[\"C:\\\\\\\\urls\\\\\\\\wixf_ana2211_50k.txt\",1,N]', '#file_links[\"C:\\\\\\\\work\\\\\\\\macros\\\\\\\\incacar_url.txt\",1,N]', '#file_links[&quot;C:\\\\\\\\urls', '#file_links_A[\"C:\\\\\\\\XSettings\\\\\\\\Titles.txt\",1,N]', '#file_links_A[\"C:\\\\\\\\XSettings\\\\\\\\URLs.txt\",1,N]', '#file_links_A[&quot;C:\\\\\\\\XS', '#GOLDEN AGE OF INFRA', '#khansaheb0.5']\n"
     ]
    }
   ],
   "source": [
    "# Extracting last 30 day spam usernames\n",
    "\n",
    "file = open('/PR 1/listed_username_30.txt','r')\n",
    "last_30_df = pd.DataFrame(file.read().splitlines(),columns = [\"Train Values\"])\n",
    "last_30_df = last_30_df[\"Train Values\"].tolist()\n",
    "\n",
    "\n",
    "\n",
    "print(len(last_30_df))\n",
    "print(last_30_df[:15])"
   ]
  },
  {
   "cell_type": "code",
   "execution_count": 3,
   "metadata": {},
   "outputs": [
    {
     "name": "stdout",
     "output_type": "stream",
     "text": [
      "4264094\n",
      "['!!!!AAAiiizz', '!!!Aomnzbzxd', '!!!Azamant', '!!!gxgvegfibhcs', '!!AbcaBlida', '!!Abcabog', '!!Abcacen', '!!AbcaCetry', '!!Abcacig', '!!AbcaDot', '!!AbcaExind', '!!AbcagoW', '!!AbcaHap', '!!AbcaHieme', '!!AbcaIconi']\n"
     ]
    }
   ],
   "source": [
    "# Extracting last 365 days spam usernames\n",
    "\n",
    "\n",
    "file = open('/Users/aswathsabarri/Desktop/SU/FALL 2022/Intro to DS/HW 5/PR 1/listed_username_365.txt','r')\n",
    "last_365_df = pd.DataFrame(file.read().splitlines(),columns = [\"Values\"])\n",
    "# last_365_df = last_365_df.astype('string')\n",
    "last_365_df = last_365_df[\"Values\"].tolist()\n",
    "\n",
    "print(len(last_365_df))\n",
    "print(last_365_df[:15])"
   ]
  },
  {
   "cell_type": "code",
   "execution_count": 4,
   "metadata": {},
   "outputs": [
    {
     "name": "stdout",
     "output_type": "stream",
     "text": [
      "No of inputs to be hashed : 353217\n",
      "Length of bit array : 2202387\n"
     ]
    }
   ],
   "source": [
    "# Choosing size of bit array to be used for the filter\n",
    "\n",
    "\n",
    "len_of_input = len(last_30_df)\n",
    "print(\"No of inputs to be hashed :\",len_of_input)\n",
    "\n",
    "\n",
    "length_bit  = (-1 * len_of_input * np.log(0.05))/(pow(np.log(2),2))\n",
    "length_bit = int(length_bit)\n",
    "print(\"Length of bit array :\",length_bit)"
   ]
  },
  {
   "cell_type": "code",
   "execution_count": 5,
   "metadata": {},
   "outputs": [
    {
     "name": "stdout",
     "output_type": "stream",
     "text": [
      "Hashing done\n",
      "No of words hashed :  353217\n",
      "[ True  True False  True  True  True  True  True  True  True False False\n",
      "  True  True False]\n"
     ]
    }
   ],
   "source": [
    "#  Creating a bitarray and encoding spam Usernames into bitarray\n",
    "\n",
    "bit_array = np.full(length_bit,False)\n",
    "# print(len(bit_array))\n",
    "word_record_dict = {}\n",
    "\n",
    "no_of_hashs = 8\n",
    "\n",
    "count = 0\n",
    "\n",
    "for word in last_30_df:\n",
    "    \n",
    "    count += 1\n",
    "    word = str(word)\n",
    "    word_record_dict[word] = True\n",
    "    # print(type(word),word)\n",
    "    for i in range(no_of_hashs):\n",
    "\n",
    "        hashed_val = mmh3.hash(word,i+1) % length_bit\n",
    "        \n",
    "        bit_array[hashed_val] = True\n",
    "\n",
    "\n",
    "print(\"Hashing done\")\n",
    "print(\"No of words hashed : \",count)\n",
    "\n",
    "print(bit_array[:15])\n",
    "# print(word_record_dict[:10])\n"
   ]
  },
  {
   "cell_type": "code",
   "execution_count": 6,
   "metadata": {},
   "outputs": [
    {
     "name": "stdout",
     "output_type": "stream",
     "text": [
      "[('!Alain', True), ('#file_links[\"C:urlsactivity0711.txt\",1,N]', True), ('#file_links[\"C:urlsactivity1311.txt\",1,N]', True), ('#file_links[\"C:workmacrosincacar_url.txt\",1,N]', True), ('#file_links[\"C:\\\\\\\\urls\\\\\\\\activity0311.txt\",1,N]', True), ('#file_links[\"C:\\\\\\\\urls\\\\\\\\activity0711.txt\",1,N]', True), ('#file_links[\"C:\\\\\\\\urls\\\\\\\\activity1311.txt\",1,N]', True), ('#file_links[\"C:\\\\\\\\urls\\\\\\\\wixf_ana2211_50k.txt\",1,N]', True), ('#file_links[\"C:\\\\\\\\work\\\\\\\\macros\\\\\\\\incacar_url.txt\",1,N]', True), ('#file_links[&quot;C:\\\\\\\\urls', True)]\n"
     ]
    }
   ],
   "source": [
    "print(list(word_record_dict.items())[:10])"
   ]
  },
  {
   "cell_type": "code",
   "execution_count": 7,
   "metadata": {},
   "outputs": [
    {
     "name": "stdout",
     "output_type": "stream",
     "text": [
      "Total count of words in stream : 4264094\n",
      "Words correctly  tagged present : 353709\n",
      "Words wrongly tagged present : 289887\n"
     ]
    }
   ],
   "source": [
    "# Using the datastream to check the FPR of the bloom filter\n",
    "\n",
    "count = 0\n",
    "count_TP = 0\n",
    "count_FP = 0\n",
    "\n",
    "for word in last_365_df:\n",
    "    \n",
    "    word_present = True\n",
    "    \n",
    "\n",
    "    for i in range(no_of_hashs):\n",
    "\n",
    "        hashed_val = mmh3.hash(str(word),i+1) % length_bit\n",
    "\n",
    "        word_present = word_present & bit_array[hashed_val]\n",
    "    \n",
    "\n",
    "    \n",
    "    if word_present == True:\n",
    "\n",
    "        is_present = word_record_dict.get(word)\n",
    "        if is_present == True:\n",
    "            count_TP += 1\n",
    "\n",
    "        else:\n",
    "            count_FP += 1\n",
    "    \n",
    "    count += 1\n",
    "\n",
    "\n",
    "\n",
    "print(\"Total count of words in stream :\",count)\n",
    "print(\"Words correctly  tagged present :\",count_TP)\n",
    "print(\"Words wrongly tagged present :\",count_FP)\n",
    "     \n",
    "        \n",
    "    \n",
    "\n",
    "\n",
    "\n",
    "\n",
    "     \n"
   ]
  },
  {
   "cell_type": "code",
   "execution_count": 8,
   "metadata": {},
   "outputs": [
    {
     "name": "stdout",
     "output_type": "stream",
     "text": [
      "No of identifiers set as spam usernames : 353217\n",
      "No of usernames present in the stream : 4264094\n",
      "No of hash functions used in Bloom filter (n) : 8\n",
      "Length of Bit array (k) : 2202387\n",
      "False positive rate of Filter (FPR) : 0.45041765331046185\n"
     ]
    }
   ],
   "source": [
    "# Printing the properties of the Bloom filter\n",
    "\n",
    "print(\"No of identifiers set as spam usernames :\",len(last_30_df))\n",
    "print(\"No of usernames present in the stream :\",len(last_365_df))\n",
    "print(\"No of hash functions used in Bloom filter (n) :\",no_of_hashs)\n",
    "print(\"Length of Bit array (k) :\",length_bit)\n",
    "print(\"False positive rate of Filter (FPR) :\",(count_FP/(count_TP+count_FP)))"
   ]
  }
 ],
 "metadata": {
  "kernelspec": {
   "display_name": "Python 3.9.12 64-bit",
   "language": "python",
   "name": "python3"
  },
  "language_info": {
   "codemirror_mode": {
    "name": "ipython",
    "version": 3
   },
   "file_extension": ".py",
   "mimetype": "text/x-python",
   "name": "python",
   "nbconvert_exporter": "python",
   "pygments_lexer": "ipython3",
   "version": "3.9.12"
  },
  "orig_nbformat": 4,
  "vscode": {
   "interpreter": {
    "hash": "aee8b7b246df8f9039afb4144a1f6fd8d2ca17a180786b69acc140d282b71a49"
   }
  }
 },
 "nbformat": 4,
 "nbformat_minor": 2
}
