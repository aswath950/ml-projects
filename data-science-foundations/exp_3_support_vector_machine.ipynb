{
 "cells": [
  {
   "cell_type": "markdown",
   "metadata": {},
   "source": [
    "# Experiment 3 - Support Vector Machine\n",
    "#### Data Preprocessing \n",
    "#### SVM Lib Linear\n",
    "#### SVM with kernels  "
   ]
  },
  {
   "cell_type": "code",
   "execution_count": 1,
   "metadata": {},
   "outputs": [],
   "source": [
    "from liblinear.liblinearutil import *\n",
    "import pandas as pd\n",
    "from libsvm.svmutil import *\n",
    "import matplotlib.pyplot as plt"
   ]
  },
  {
   "cell_type": "code",
   "execution_count": 2,
   "metadata": {},
   "outputs": [],
   "source": [
    "# Reading file using class\n",
    "class_labels,file= svm_read_problem(\"covtype.libsvm.binary.nosync\")\n",
    "\n",
    "matrix = pd.DataFrame(file)"
   ]
  },
  {
   "cell_type": "code",
   "execution_count": 3,
   "metadata": {},
   "outputs": [
    {
     "name": "stdout",
     "output_type": "stream",
     "text": [
      "{1.0, 2.0}\n",
      "(581012, 54)\n"
     ]
    }
   ],
   "source": [
    "\n",
    "print(set(class_labels))\n",
    "print(matrix.shape)"
   ]
  },
  {
   "cell_type": "code",
   "execution_count": 4,
   "metadata": {},
   "outputs": [],
   "source": [
    "max_val_arr =  matrix.max()\n",
    "mean_val_arr = matrix.mean(axis = 0)\n",
    "\n",
    "matrix = matrix - mean_val_arr\n",
    "matrix = matrix/max_val_arr\n",
    "\n",
    "matrix=matrix.apply(lambda x : x.dropna().to_dict(),axis=1)\n",
    "# matrix_data = matrix_data.to_dict()\n"
   ]
  },
  {
   "cell_type": "code",
   "execution_count": 5,
   "metadata": {},
   "outputs": [],
   "source": [
    "# Creating a training set so as reduce computation time\n",
    "\n",
    "matrix_data = matrix.values.tolist()\n",
    "train_matrix = matrix_data[0:70000]\n",
    "train_labels = class_labels[0:70000]"
   ]
  },
  {
   "cell_type": "code",
   "execution_count": 6,
   "metadata": {},
   "outputs": [
    {
     "name": "stdout",
     "output_type": "stream",
     "text": [
      "init f 4.852e+04 |g| 6.671e+03\n",
      "iter  1 f 3.878e+04 |g| 1.019e+03 CG   2 step_size 1.00e+00 \n",
      "iter  2 f 3.820e+04 |g| 1.843e+02 CG   3 step_size 1.00e+00 \n",
      "iter  3 f 3.816e+04 |g| 9.755e+00 CG   4 step_size 1.00e+00 \n"
     ]
    }
   ],
   "source": [
    "#Implementing s 0 SVM\n",
    "tr_1 =  problem(train_labels,train_matrix)\n",
    "input_par = parameter('-s 0')\n",
    "\n",
    "model_1 = train(tr_1,input_par)"
   ]
  },
  {
   "cell_type": "code",
   "execution_count": 7,
   "metadata": {},
   "outputs": [
    {
     "name": "stdout",
     "output_type": "stream",
     "text": [
      ".*\n",
      "optimization finished, #iter = 13\n",
      "Objective value = -43909.652660\n",
      "nSV = 59488\n",
      ".*\n",
      "optimization finished, #iter = 13\n",
      "Objective value = -44144.784344\n",
      "nSV = 59542\n",
      ".*\n",
      "optimization finished, #iter = 12\n",
      "Objective value = -43870.886962\n",
      "nSV = 59507\n",
      ".*\n",
      "optimization finished, #iter = 13\n",
      "Objective value = -44136.093813\n",
      "nSV = 59565\n",
      ".*\n",
      "optimization finished, #iter = 13\n",
      "Objective value = -44031.019572\n",
      "nSV = 59557\n",
      ".*\n",
      "optimization finished, #iter = 13\n",
      "Objective value = -44032.961938\n",
      "nSV = 59522\n",
      ".*\n",
      "optimization finished, #iter = 12\n",
      "Objective value = -44015.928699\n",
      "nSV = 59493\n",
      "Cross Validation Accuracy = 73.1786%\n"
     ]
    }
   ],
   "source": [
    "tr_1_accuracy =  train(train_labels,train_matrix,'-v 7')"
   ]
  },
  {
   "cell_type": "code",
   "execution_count": 8,
   "metadata": {},
   "outputs": [
    {
     "name": "stdout",
     "output_type": "stream",
     "text": [
      "init f 4.852e+04 |g| 6.671e+03\n",
      "iter  1 f 3.878e+04 |g| 1.019e+03 CG   2 step_size 1.00e+00 \n",
      "iter  2 f 3.820e+04 |g| 1.843e+02 CG   3 step_size 1.00e+00 \n",
      "iter  3 f 3.816e+04 |g| 9.755e+00 CG   4 step_size 1.00e+00 \n"
     ]
    }
   ],
   "source": [
    "best_c_0=train(train_labels,train_matrix,'-s 0')"
   ]
  },
  {
   "cell_type": "code",
   "execution_count": 9,
   "metadata": {},
   "outputs": [],
   "source": [
    "# A list to hold the accuracies\n",
    "acc_LibLinear = []\n",
    "acc_Libsvm_kernel = []"
   ]
  },
  {
   "cell_type": "code",
   "execution_count": 10,
   "metadata": {},
   "outputs": [
    {
     "name": "stdout",
     "output_type": "stream",
     "text": [
      "Accuracy = 73.3814% (51367/70000) (classification)\n"
     ]
    }
   ],
   "source": [
    "\n",
    "linear_pre_vals_0 = predict(train_labels,train_matrix,model_1)\n",
    "acc_LibLinear.append(linear_pre_vals_0[1][0])"
   ]
  },
  {
   "cell_type": "code",
   "execution_count": 11,
   "metadata": {},
   "outputs": [
    {
     "name": "stdout",
     "output_type": "stream",
     "text": [
      ".*\n",
      "optimization finished, #iter = 13\n",
      "Objective value = -51358.040797\n",
      "nSV = 69445\n",
      ".*\n",
      "optimization finished, #iter = 13\n",
      "Objective value = -51358.041398\n",
      "nSV = 69447\n"
     ]
    }
   ],
   "source": [
    "# Implementing S 1 SVM\n",
    "\n",
    "input_par = parameter('-s 1')\n",
    "\n",
    "model_2 = train(tr_1,input_par)\n",
    "\n",
    "best_c_2=train(train_labels,train_matrix,'-s 1')\n",
    "\n"
   ]
  },
  {
   "cell_type": "code",
   "execution_count": 12,
   "metadata": {},
   "outputs": [
    {
     "name": "stdout",
     "output_type": "stream",
     "text": [
      "Accuracy = 73.19% (51233/70000) (classification)\n"
     ]
    }
   ],
   "source": [
    "linear_pre_vals_2 = predict(train_labels,train_matrix,model_2)\n",
    "# print(linear_pre_vals_2[1])\n",
    "acc_LibLinear.append(linear_pre_vals_2[1][0])"
   ]
  },
  {
   "cell_type": "code",
   "execution_count": 13,
   "metadata": {},
   "outputs": [
    {
     "name": "stdout",
     "output_type": "stream",
     "text": [
      "init f 7.000e+04 |g| 2.668e+04\n",
      "iter  1 f 5.192e+04 |g| 1.590e+03 CG   2 step_size 1.00e+00 \n",
      "iter  2 f 5.136e+04 |g| 1.364e+02 CG   4 step_size 1.00e+00 \n",
      "iter  3 f 5.136e+04 |g| 2.385e+01 CG   3 step_size 1.00e+00 \n",
      "init f 7.000e+04 |g| 2.668e+04\n",
      "iter  1 f 5.192e+04 |g| 1.590e+03 CG   2 step_size 1.00e+00 \n",
      "iter  2 f 5.136e+04 |g| 1.364e+02 CG   4 step_size 1.00e+00 \n",
      "iter  3 f 5.136e+04 |g| 2.385e+01 CG   3 step_size 1.00e+00 \n"
     ]
    }
   ],
   "source": [
    "# Implementing S 2 SVM\n",
    "\n",
    "input_par = parameter('-s 2')\n",
    "\n",
    "model_3 = train(tr_1,input_par)\n",
    "\n",
    "best_c_2=train(train_labels,train_matrix,'-s 2')"
   ]
  },
  {
   "cell_type": "code",
   "execution_count": 14,
   "metadata": {},
   "outputs": [
    {
     "name": "stdout",
     "output_type": "stream",
     "text": [
      "Accuracy = 73.2029% (51242/70000) (classification)\n"
     ]
    }
   ],
   "source": [
    "linear_pre_vals_2 = predict(train_labels,train_matrix,model_3)\n",
    "acc_LibLinear.append(linear_pre_vals_2[1][0])"
   ]
  },
  {
   "cell_type": "code",
   "execution_count": 15,
   "metadata": {},
   "outputs": [
    {
     "name": "stdout",
     "output_type": "stream",
     "text": [
      "[73.38142857142857, 73.19, 73.20285714285714]\n"
     ]
    }
   ],
   "source": [
    "#  The accuracies of svm 0 1 and 2 are provided\n",
    "print(acc_LibLinear)"
   ]
  },
  {
   "cell_type": "code",
   "execution_count": 16,
   "metadata": {},
   "outputs": [],
   "source": [
    "svm_train_label = class_labels[10000:20000]\n",
    "svm_train_matrix = matrix_data[10000:20000]"
   ]
  },
  {
   "cell_type": "markdown",
   "metadata": {},
   "source": [
    "## Using svms with kernel to see if there is an improvement in accuracy"
   ]
  },
  {
   "cell_type": "code",
   "execution_count": 17,
   "metadata": {},
   "outputs": [
    {
     "name": "stdout",
     "output_type": "stream",
     "text": [
      "....\n",
      "WARNING: using -h 0 may be faster\n",
      "*.\n",
      "WARNING: using -h 0 may be faster\n",
      "*.\n",
      "WARNING: using -h 0 may be faster\n",
      "*\n",
      "optimization finished, #iter = 5680\n",
      "nu = 0.425705\n",
      "obj = -4237.887074, rho = -0.907209\n",
      "nSV = 4263, nBSV = 4247\n",
      "Total nSV = 4263\n"
     ]
    }
   ],
   "source": [
    "# Kernel svm 0\n",
    "kernel_svm = svm_problem(svm_train_label,svm_train_matrix,isKernel=True)\n",
    "kernel_svm_params_0 = svm_parameter('-t 0')\n",
    "svm_trainer_0 = svm_train(kernel_svm,kernel_svm_params_0)\n",
    "\n"
   ]
  },
  {
   "cell_type": "code",
   "execution_count": 18,
   "metadata": {},
   "outputs": [
    {
     "name": "stdout",
     "output_type": "stream",
     "text": [
      "Accuracy = 82.43% (8243/10000) (classification)\n"
     ]
    }
   ],
   "source": [
    "results_svm_0 = svm_predict(svm_train_label,svm_train_matrix,svm_trainer_0)\n",
    "acc_Libsvm_kernel.append(results_svm_0[1][0])\n"
   ]
  },
  {
   "cell_type": "code",
   "execution_count": 19,
   "metadata": {},
   "outputs": [
    {
     "name": "stdout",
     "output_type": "stream",
     "text": [
      "....\n",
      "WARNING: using -h 0 may be faster\n",
      "*\n",
      "optimization finished, #iter = 4560\n",
      "nu = 0.912000\n",
      "obj = -9119.183342, rho = -0.999731\n",
      "nSV = 9120, nBSV = 9120\n",
      "Total nSV = 9120\n"
     ]
    }
   ],
   "source": [
    "# Kernel svm 1\n",
    "\n",
    "kernel_svm_params_1 = svm_parameter('-t 1')\n",
    "svm_trainer_1 = svm_train(kernel_svm,kernel_svm_params_1)"
   ]
  },
  {
   "cell_type": "code",
   "execution_count": 20,
   "metadata": {},
   "outputs": [
    {
     "name": "stdout",
     "output_type": "stream",
     "text": [
      "Accuracy = 54.4% (5440/10000) (classification)\n"
     ]
    }
   ],
   "source": [
    "results_svm_1 = svm_predict(svm_train_label,svm_train_matrix,svm_trainer_1)\n",
    "acc_Libsvm_kernel.append(results_svm_1[1][0])"
   ]
  },
  {
   "cell_type": "code",
   "execution_count": 21,
   "metadata": {},
   "outputs": [
    {
     "name": "stdout",
     "output_type": "stream",
     "text": [
      "...\n",
      "WARNING: using -h 0 may be faster\n",
      "*.\n",
      "WARNING: using -h 0 may be faster\n",
      "*\n",
      "optimization finished, #iter = 3629\n",
      "nu = 0.475791\n",
      "obj = -4522.538117, rho = 1.366956\n",
      "nSV = 4762, nBSV = 4752\n",
      "Total nSV = 4762\n"
     ]
    }
   ],
   "source": [
    "# Kernel svm 2\n",
    "\n",
    "kernel_svm_params_2 = svm_parameter('-t 2')\n",
    "svm_trainer_2 = svm_train(kernel_svm,kernel_svm_params_2)"
   ]
  },
  {
   "cell_type": "code",
   "execution_count": 22,
   "metadata": {},
   "outputs": [
    {
     "name": "stdout",
     "output_type": "stream",
     "text": [
      "Accuracy = 81.89% (8189/10000) (classification)\n"
     ]
    }
   ],
   "source": [
    "results_svm_2 = svm_predict(svm_train_label,svm_train_matrix,svm_trainer_2)\n",
    "acc_Libsvm_kernel.append(results_svm_2[1][0])"
   ]
  },
  {
   "cell_type": "code",
   "execution_count": 23,
   "metadata": {},
   "outputs": [
    {
     "name": "stdout",
     "output_type": "stream",
     "text": [
      "The accuracies of the svms with kernels are: \n",
      " [82.43, 54.400000000000006, 81.89]\n"
     ]
    }
   ],
   "source": [
    "print(\"The accuracies of the svms with kernels are: \\n\",acc_Libsvm_kernel)\n"
   ]
  }
 ],
 "metadata": {
  "kernelspec": {
   "display_name": "Python 3.9.12 64-bit",
   "language": "python",
   "name": "python3"
  },
  "language_info": {
   "codemirror_mode": {
    "name": "ipython",
    "version": 3
   },
   "file_extension": ".py",
   "mimetype": "text/x-python",
   "name": "python",
   "nbconvert_exporter": "python",
   "pygments_lexer": "ipython3",
   "version": "3.9.12"
  },
  "orig_nbformat": 4,
  "vscode": {
   "interpreter": {
    "hash": "aee8b7b246df8f9039afb4144a1f6fd8d2ca17a180786b69acc140d282b71a49"
   }
  }
 },
 "nbformat": 4,
 "nbformat_minor": 2
}
