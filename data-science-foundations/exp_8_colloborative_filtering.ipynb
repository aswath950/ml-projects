{
 "cells": [
  {
   "cell_type": "markdown",
   "metadata": {},
   "source": [
    "# Experiment 8 - Colloborative Filtering \n"
   ]
  },
  {
   "cell_type": "code",
   "execution_count": 7,
   "metadata": {},
   "outputs": [],
   "source": [
    "# Importing required libraries\n",
    "\n",
    "import pandas as pd\n",
    "import numpy as np\n",
    "import math\n",
    "import numpy as np\n",
    "from sklearn.metrics import pairwise_distances"
   ]
  },
  {
   "cell_type": "code",
   "execution_count": 8,
   "metadata": {},
   "outputs": [
    {
     "name": "stdout",
     "output_type": "stream",
     "text": [
      "     0    1  2          3\n",
      "0  196  242  3  881250949\n",
      "1  186  302  3  891717742\n",
      "2   22  377  1  878887116\n",
      "3  244   51  2  880606923\n",
      "4  166  346  1  886397596\n"
     ]
    }
   ],
   "source": [
    "# Loading data set to see the structure of the dataset\n",
    "\n",
    "\n",
    "\n",
    "df = pd.read_csv('/ml-100k/u.data',sep = \"\\t\",header= None)\n",
    "\n",
    "print(df.head())"
   ]
  },
  {
   "cell_type": "code",
   "execution_count": 9,
   "metadata": {},
   "outputs": [],
   "source": [
    "# Calculating item_id rating prediction based on user-based collobrative filtering\n",
    "\n",
    "def get_rating(u_data,u,i,no_neigh):\n",
    "    \n",
    "    user_id = u\n",
    "    item_id = i\n",
    "    df = u_data\n",
    "\n",
    "    uniq_users = len(set(df.iloc[:,0]))\n",
    "    uniq_movies = len(set(df.iloc[:,1]))\n",
    "    \n",
    "    print(\"Unique users :\",uniq_users)\n",
    "    print(\"Unique movies :\",uniq_movies)\n",
    "\n",
    "    # Creating Data matrix from values acquired\n",
    "\n",
    "    data_mat = np.full((uniq_users,uniq_movies),0)\n",
    "\n",
    "    for index,value in df.iterrows():\n",
    "\n",
    "        data_mat[value[0]-1,value[1]-1] = value[2]\n",
    "\n",
    "\n",
    "    us_sim_matrix = 1-pairwise_distances(data_mat, metric=\"cosine\")\n",
    "    it_sim_matrix = 1-pairwise_distances(np.transpose(data_mat),metric = \"cosine\")\n",
    "    \n",
    "\n",
    "    #  Getting the k no of most similar neighbours\n",
    "    no_of_neigh = no_neigh\n",
    "    us_nrst_neighs = []\n",
    "    it_nrst_neighs = []\n",
    "\n",
    "    us_neighs = [(i) for i in range(uniq_users)]\n",
    "    it_neighs = [(i) for i in range(uniq_movies)]\n",
    "\n",
    "    us_nrst_neighs = sorted(zip(us_sim_matrix[user_id-1],us_neighs),reverse = True)[1:(no_of_neigh+1)]\n",
    "\n",
    "    it_nrst_neighs = sorted(zip(it_sim_matrix[item_id-1],it_neighs),reverse = True)[1:(no_of_neigh+1)]\n",
    "    \n",
    "    # Calculating user based rating for item\n",
    "    us_mean_rating = np.mean(data_mat[user_id-1,:])\n",
    "\n",
    "    us_sum_denom = float(0)\n",
    "    us_sum_numer = float(0)\n",
    "    for sim in us_nrst_neighs:\n",
    "        \n",
    "        us_sum_denom += sim[0]\n",
    "        us_mean_user_rating  = np.mean(data_mat[sim[1],:])\n",
    "        us_sum_numer += (sim[0]*(data_mat[sim[1],item_id-1] - us_mean_user_rating))\n",
    "\n",
    "    us_rating = (us_mean_rating + (us_sum_numer/us_sum_denom))\n",
    "\n",
    "    \n",
    "    if us_rating < 0:\n",
    "        us_rating = 0\n",
    "    \n",
    "    elif us_rating > 5:\n",
    "        us_rating =  5 \n",
    "    \n",
    "    print(\"User based rating for user \" + str(user_id) + \" rating for item \"+ str(item_id) +\" is :\" +str(us_rating))\n",
    "\n",
    "    # Calculating item based rating for item\n",
    "     \n",
    "    it_mean_rating = np.mean(data_mat[:,item_id-1])\n",
    "    it_sum_denom = float(0)\n",
    "    it_sum_numer = float(0)\n",
    "\n",
    "    for sim in it_nrst_neighs:\n",
    "\n",
    "        it_sum_denom += sim[0]\n",
    "\n",
    "        it_mean_rating = np.mean(data_mat[:,sim[1]])\n",
    "\n",
    "        us_sum_numer += (sim[0] *(data_mat[user_id-1,sim[1]] - it_mean_rating))\n",
    "\n",
    "    it_rating = (it_mean_rating + (it_sum_numer/it_sum_denom))\n",
    "\n",
    "    if it_rating < 0:\n",
    "        it_rating = 0\n",
    "    \n",
    "    elif it_rating > 5:\n",
    "        it_rating =  5 \n",
    "\n",
    "    print(\"Item based rating for user \" + str(user_id) + \" rating for item \"+ str(item_id) +\" is :\" +str(it_rating))\n",
    "\n",
    "\n",
    "\n",
    "    \n",
    "\n",
    "\n",
    "\n"
   ]
  },
  {
   "cell_type": "code",
   "execution_count": 10,
   "metadata": {},
   "outputs": [
    {
     "name": "stdout",
     "output_type": "stream",
     "text": [
      "Unique users : 943\n",
      "Unique movies : 1682\n",
      "User based rating for user 250 rating for item 100 is :4.302035747340593\n",
      "Item based rating for user 250 rating for item 100 is :1.2354188759278897\n"
     ]
    }
   ],
   "source": [
    "get_rating(df,250,100,10)"
   ]
  }
 ],
 "metadata": {
  "kernelspec": {
   "display_name": "Python 3.9.12 64-bit",
   "language": "python",
   "name": "python3"
  },
  "language_info": {
   "codemirror_mode": {
    "name": "ipython",
    "version": 3
   },
   "file_extension": ".py",
   "mimetype": "text/x-python",
   "name": "python",
   "nbconvert_exporter": "python",
   "pygments_lexer": "ipython3",
   "version": "3.9.12"
  },
  "orig_nbformat": 4,
  "vscode": {
   "interpreter": {
    "hash": "aee8b7b246df8f9039afb4144a1f6fd8d2ca17a180786b69acc140d282b71a49"
   }
  }
 },
 "nbformat": 4,
 "nbformat_minor": 2
}
